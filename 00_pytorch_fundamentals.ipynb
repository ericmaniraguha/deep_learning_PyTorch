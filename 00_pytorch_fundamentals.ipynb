{
  "nbformat": 4,
  "nbformat_minor": 0,
  "metadata": {
    "colab": {
      "provenance": [],
      "gpuType": "T4",
      "authorship_tag": "ABX9TyMqndMZb4MDVwCITNQJ4uu7",
      "include_colab_link": true
    },
    "kernelspec": {
      "name": "python3",
      "display_name": "Python 3"
    },
    "language_info": {
      "name": "python"
    },
    "accelerator": "GPU"
  },
  "cells": [
    {
      "cell_type": "markdown",
      "metadata": {
        "id": "view-in-github",
        "colab_type": "text"
      },
      "source": [
        "<a href=\"https://colab.research.google.com/github/ericmaniraguha/deep_learning_PyTorch/blob/00_pytorch_fundamentals/00_pytorch_fundamentals.ipynb\" target=\"_parent\"><img src=\"https://colab.research.google.com/assets/colab-badge.svg\" alt=\"Open In Colab\"/></a>"
      ]
    },
    {
      "cell_type": "markdown",
      "source": [
        "#### 00. Start with Pytorch Fundamentals \n",
        "\n",
        "sources:\n",
        "\n",
        "1. https://github.com/mrdbourke/pytorch-deep-learning\n",
        "\n",
        "2. https://www.learnpytorch.io/ \n",
        "\n",
        "3. https://zerotomastery.io/courses/learn-pytorch/\n"
      ],
      "metadata": {
        "id": "WOyBJOeZiWMe"
      }
    },
    {
      "cell_type": "code",
      "execution_count": 1,
      "metadata": {
        "colab": {
          "base_uri": "https://localhost:8080/"
        },
        "id": "64vZBsHXhiH9",
        "outputId": "f95275d7-d1f3-4804-fd97-453f01d666b7"
      },
      "outputs": [
        {
          "output_type": "stream",
          "name": "stdout",
          "text": [
            "Tue May 30 13:46:20 2023       \n",
            "+-----------------------------------------------------------------------------+\n",
            "| NVIDIA-SMI 525.85.12    Driver Version: 525.85.12    CUDA Version: 12.0     |\n",
            "|-------------------------------+----------------------+----------------------+\n",
            "| GPU  Name        Persistence-M| Bus-Id        Disp.A | Volatile Uncorr. ECC |\n",
            "| Fan  Temp  Perf  Pwr:Usage/Cap|         Memory-Usage | GPU-Util  Compute M. |\n",
            "|                               |                      |               MIG M. |\n",
            "|===============================+======================+======================|\n",
            "|   0  Tesla T4            Off  | 00000000:00:04.0 Off |                    0 |\n",
            "| N/A   44C    P8     9W /  70W |      0MiB / 15360MiB |      0%      Default |\n",
            "|                               |                      |                  N/A |\n",
            "+-------------------------------+----------------------+----------------------+\n",
            "                                                                               \n",
            "+-----------------------------------------------------------------------------+\n",
            "| Processes:                                                                  |\n",
            "|  GPU   GI   CI        PID   Type   Process name                  GPU Memory |\n",
            "|        ID   ID                                                   Usage      |\n",
            "|=============================================================================|\n",
            "|  No running processes found                                                 |\n",
            "+-----------------------------------------------------------------------------+\n"
          ]
        }
      ],
      "source": [
        "!nvidia-smi"
      ]
    },
    {
      "cell_type": "code",
      "source": [
        "import torch \n",
        "print(torch.__version__)"
      ],
      "metadata": {
        "colab": {
          "base_uri": "https://localhost:8080/"
        },
        "id": "DCDsiBdslC3_",
        "outputId": "f60d5201-6df0-4d92-df68-5c6283033edc"
      },
      "execution_count": 2,
      "outputs": [
        {
          "output_type": "stream",
          "name": "stdout",
          "text": [
            "2.0.1+cu118\n"
          ]
        }
      ]
    },
    {
      "cell_type": "code",
      "source": [
        "import pandas as pd\n",
        "import numpy as np\n",
        "import matplotlib.pyplot as plt "
      ],
      "metadata": {
        "id": "d6el7i2plKuZ"
      },
      "execution_count": 3,
      "outputs": []
    },
    {
      "cell_type": "markdown",
      "source": [
        "## Introduction of Tensors\n",
        "Create tensors \n",
        "\n",
        "Pytorch tensors are using 'torch.Tensor()' --https://pytorch.org/tutorials/beginner/examples_tensor/polynomial_tensor.html#:~:text=PyTorch%3A%20Tensors,-A%20third%20order&text=A%20PyTorch%20Tensor%20is%20basically,used%20for%20arbitrary%20numeric%20computation."
      ],
      "metadata": {
        "id": "nkAQ3PeZo_YM"
      }
    },
    {
      "cell_type": "code",
      "source": [
        "# scalar \n",
        "scalar = torch.tensor(7)\n",
        "scalar\n"
      ],
      "metadata": {
        "colab": {
          "base_uri": "https://localhost:8080/"
        },
        "id": "2HAreNOpoNVq",
        "outputId": "75cb38c3-b9bc-4ec6-e866-528648cb0cdd"
      },
      "execution_count": 4,
      "outputs": [
        {
          "output_type": "execute_result",
          "data": {
            "text/plain": [
              "tensor(7)"
            ]
          },
          "metadata": {},
          "execution_count": 4
        }
      ]
    },
    {
      "cell_type": "code",
      "source": [
        "scalar.ndim \n"
      ],
      "metadata": {
        "colab": {
          "base_uri": "https://localhost:8080/"
        },
        "id": "W7SIku-Cp45F",
        "outputId": "0fb3ae74-40e2-48d2-fc70-32a9ebb1c2b2"
      },
      "execution_count": 5,
      "outputs": [
        {
          "output_type": "execute_result",
          "data": {
            "text/plain": [
              "0"
            ]
          },
          "metadata": {},
          "execution_count": 5
        }
      ]
    },
    {
      "cell_type": "code",
      "source": [
        "# Get tensor back as Pytorch int \n",
        "scalar.item()"
      ],
      "metadata": {
        "colab": {
          "base_uri": "https://localhost:8080/"
        },
        "id": "rSQKSSA0qcEf",
        "outputId": "9e55db51-1638-4a12-f465-d0a60d42b740"
      },
      "execution_count": 6,
      "outputs": [
        {
          "output_type": "execute_result",
          "data": {
            "text/plain": [
              "7"
            ]
          },
          "metadata": {},
          "execution_count": 6
        }
      ]
    },
    {
      "cell_type": "code",
      "source": [
        "# vector\n",
        "vector =  torch.tensor([7,7])\n",
        "vector"
      ],
      "metadata": {
        "colab": {
          "base_uri": "https://localhost:8080/"
        },
        "id": "PQknQik0qjpx",
        "outputId": "6f628255-d210-4fc2-f38d-43f9e057c827"
      },
      "execution_count": 7,
      "outputs": [
        {
          "output_type": "execute_result",
          "data": {
            "text/plain": [
              "tensor([7, 7])"
            ]
          },
          "metadata": {},
          "execution_count": 7
        }
      ]
    },
    {
      "cell_type": "code",
      "source": [
        "vector.ndim"
      ],
      "metadata": {
        "colab": {
          "base_uri": "https://localhost:8080/"
        },
        "id": "y8_IAnU6q2hH",
        "outputId": "48663334-ebe2-4d47-c62a-754af3d647be"
      },
      "execution_count": 8,
      "outputs": [
        {
          "output_type": "execute_result",
          "data": {
            "text/plain": [
              "1"
            ]
          },
          "metadata": {},
          "execution_count": 8
        }
      ]
    },
    {
      "cell_type": "code",
      "source": [
        "vector.shape"
      ],
      "metadata": {
        "colab": {
          "base_uri": "https://localhost:8080/"
        },
        "id": "XiW2LVWuq49h",
        "outputId": "47d76646-0376-4c74-98ed-2f0247ef3a61"
      },
      "execution_count": 9,
      "outputs": [
        {
          "output_type": "execute_result",
          "data": {
            "text/plain": [
              "torch.Size([2])"
            ]
          },
          "metadata": {},
          "execution_count": 9
        }
      ]
    },
    {
      "cell_type": "code",
      "source": [
        "# MATRIX\n",
        "MATRIX = torch.tensor([[11, 3],\n",
        "                      [8,12]])\n",
        "MATRIX"
      ],
      "metadata": {
        "colab": {
          "base_uri": "https://localhost:8080/"
        },
        "id": "PHV-IZs_q8Qj",
        "outputId": "63a2f34f-88c6-4143-bac4-dc08a5d0b008"
      },
      "execution_count": 10,
      "outputs": [
        {
          "output_type": "execute_result",
          "data": {
            "text/plain": [
              "tensor([[11,  3],\n",
              "        [ 8, 12]])"
            ]
          },
          "metadata": {},
          "execution_count": 10
        }
      ]
    },
    {
      "cell_type": "code",
      "source": [
        "MATRIX.ndim"
      ],
      "metadata": {
        "colab": {
          "base_uri": "https://localhost:8080/"
        },
        "id": "QyIW1PCKrPEU",
        "outputId": "4d30454d-3837-4634-dbf0-9ebf68e39e47"
      },
      "execution_count": 11,
      "outputs": [
        {
          "output_type": "execute_result",
          "data": {
            "text/plain": [
              "2"
            ]
          },
          "metadata": {},
          "execution_count": 11
        }
      ]
    },
    {
      "cell_type": "code",
      "source": [
        "MATRIX[0]"
      ],
      "metadata": {
        "colab": {
          "base_uri": "https://localhost:8080/"
        },
        "id": "CAsIvAhdrSLa",
        "outputId": "66e97c2f-fd1a-42de-ce67-8e75f0b9082a"
      },
      "execution_count": 12,
      "outputs": [
        {
          "output_type": "execute_result",
          "data": {
            "text/plain": [
              "tensor([11,  3])"
            ]
          },
          "metadata": {},
          "execution_count": 12
        }
      ]
    },
    {
      "cell_type": "code",
      "source": [
        "MATRIX.shape"
      ],
      "metadata": {
        "colab": {
          "base_uri": "https://localhost:8080/"
        },
        "id": "gH1bAPXjrVCt",
        "outputId": "8c83bc4b-600c-43ad-8409-d45d7e3002d1"
      },
      "execution_count": 13,
      "outputs": [
        {
          "output_type": "execute_result",
          "data": {
            "text/plain": [
              "torch.Size([2, 2])"
            ]
          },
          "metadata": {},
          "execution_count": 13
        }
      ]
    },
    {
      "cell_type": "code",
      "source": [
        "# Tensor\n"
      ],
      "metadata": {
        "id": "NkXuNK2GriHk"
      },
      "execution_count": 14,
      "outputs": []
    },
    {
      "cell_type": "code",
      "source": [
        "#TENSOR\n",
        "TENSOR =  torch.tensor([\n",
        "  [  [1,2,3],\n",
        "    [4,5,6],\n",
        "    [7,8,9]]\n",
        "    ])\n",
        "TENSOR"
      ],
      "metadata": {
        "colab": {
          "base_uri": "https://localhost:8080/"
        },
        "id": "b6n_3QENrqL8",
        "outputId": "7de5e7c7-8422-49af-d696-fe34fd4f37f9"
      },
      "execution_count": 15,
      "outputs": [
        {
          "output_type": "execute_result",
          "data": {
            "text/plain": [
              "tensor([[[1, 2, 3],\n",
              "         [4, 5, 6],\n",
              "         [7, 8, 9]]])"
            ]
          },
          "metadata": {},
          "execution_count": 15
        }
      ]
    },
    {
      "cell_type": "code",
      "source": [
        "TENSOR.ndim"
      ],
      "metadata": {
        "colab": {
          "base_uri": "https://localhost:8080/"
        },
        "id": "-GUbNWl4r8fa",
        "outputId": "b942348b-ad66-450c-b4e0-fdbe6515be4a"
      },
      "execution_count": 16,
      "outputs": [
        {
          "output_type": "execute_result",
          "data": {
            "text/plain": [
              "3"
            ]
          },
          "metadata": {},
          "execution_count": 16
        }
      ]
    },
    {
      "cell_type": "code",
      "source": [
        "TENSOR.shape"
      ],
      "metadata": {
        "colab": {
          "base_uri": "https://localhost:8080/"
        },
        "id": "4p9bhdmYsJ_E",
        "outputId": "cf903b9d-52b4-4f9d-dbd9-081c34be6f57"
      },
      "execution_count": 17,
      "outputs": [
        {
          "output_type": "execute_result",
          "data": {
            "text/plain": [
              "torch.Size([1, 3, 3])"
            ]
          },
          "metadata": {},
          "execution_count": 17
        }
      ]
    },
    {
      "cell_type": "code",
      "source": [
        "TENSOR[0]"
      ],
      "metadata": {
        "colab": {
          "base_uri": "https://localhost:8080/"
        },
        "id": "_5TzigK4sTGX",
        "outputId": "09f21cc0-a93c-4ab1-ec95-bcc97d851ec5"
      },
      "execution_count": 18,
      "outputs": [
        {
          "output_type": "execute_result",
          "data": {
            "text/plain": [
              "tensor([[1, 2, 3],\n",
              "        [4, 5, 6],\n",
              "        [7, 8, 9]])"
            ]
          },
          "metadata": {},
          "execution_count": 18
        }
      ]
    },
    {
      "cell_type": "markdown",
      "source": [
        "### Random Tensors "
      ],
      "metadata": {
        "id": "pZDkRVRBtg3h"
      }
    },
    {
      "cell_type": "markdown",
      "source": [
        "### Why random tensor?\n",
        "\n",
        "\n",
        "A random tensor is a tensor with elements that are randomly generated according to a specific distribution or rule. Random tensors are commonly used in various areas of mathematics, statistics, and machine learning for several reasons:\n",
        "\n",
        "Initialization: Random tensors are often used as initial values when training neural networks or other machine learning models. Initializing the model parameters with random values helps break symmetry and prevents the model from getting stuck in suboptimal solutions. By starting with random tensors, the learning process can explore different regions of the solution space.\n",
        "\n",
        "Exploration: Random tensors are useful for exploring different possibilities and generating diverse samples. In many optimization algorithms or search algorithms, random tensors are used to explore the solution space, hoping to find better solutions or discover patterns and insights.\n",
        "\n",
        "Probabilistic Modeling: Random tensors are fundamental for probabilistic modeling, where uncertainty is modeled using probability distributions. Random tensors can represent random variables and can be used to sample from probability distributions, enabling simulations, inference, and uncertainty quantification.\n",
        "\n",
        "Noise Injection: Random tensors can be used to introduce noise into a system or data. Noise injection is often employed in data augmentation techniques to improve the generalization and robustness of machine learning models. Random tensors can also be used for regularization purposes, preventing overfitting by adding stochasticity to the learning process.\n",
        "\n",
        "Stochastic Gradient Descent: Stochastic Gradient Descent (SGD) is a popular optimization algorithm used in training machine learning models. Random tensors play a crucial role in SGD by randomly sampling a subset of training data (known as a mini-batch) for each iteration. This randomness helps in achieving faster convergence and avoiding local minima.\n",
        "\n",
        "Overall, random tensors provide a way to introduce randomness and variability into mathematical and computational systems, enabling exploration, uncertainty modeling, optimization, and other important tasks in various fields.\n"
      ],
      "metadata": {
        "id": "3AxYQGqKuRm2"
      }
    },
    {
      "cell_type": "markdown",
      "source": [
        "#### Random tensors \n",
        "why random tensors?\n",
        "\n",
        "Random tensors are important because the way many neural networks learn is that they start with tensors full of random numbers adjust those random numbers to better represent the data.\n",
        "\n",
        "Start with random numbers  -> look at data -> update random numbers -> look at data -> update\n",
        "\n",
        "https://pytorch.org/docs/stable/generated/torch.rand.html"
      ],
      "metadata": {
        "id": "X0sauLY_wC6Z"
      }
    },
    {
      "cell_type": "code",
      "source": [
        "# create a random tensor of size/ shape (3,4)\n",
        "\n",
        "random_tensor =  torch.rand(3,4)\n",
        "random_tensor"
      ],
      "metadata": {
        "colab": {
          "base_uri": "https://localhost:8080/"
        },
        "id": "RTpN_VUrxRGn",
        "outputId": "ecc49d93-395e-4bcb-803a-f0d16058c702"
      },
      "execution_count": 19,
      "outputs": [
        {
          "output_type": "execute_result",
          "data": {
            "text/plain": [
              "tensor([[0.3017, 0.2488, 0.8676, 0.7774],\n",
              "        [0.4425, 0.4721, 0.4827, 0.5343],\n",
              "        [0.2719, 0.7751, 0.8876, 0.8270]])"
            ]
          },
          "metadata": {},
          "execution_count": 19
        }
      ]
    },
    {
      "cell_type": "code",
      "source": [
        "random_tensor.ndim"
      ],
      "metadata": {
        "colab": {
          "base_uri": "https://localhost:8080/"
        },
        "id": "S2KAAiTyxVw-",
        "outputId": "9209f64a-ea32-445a-dd2a-c58db5c65e17"
      },
      "execution_count": 20,
      "outputs": [
        {
          "output_type": "execute_result",
          "data": {
            "text/plain": [
              "2"
            ]
          },
          "metadata": {},
          "execution_count": 20
        }
      ]
    },
    {
      "cell_type": "code",
      "source": [
        "# create a random tensor of size/ shape (3,4)\n",
        "\n",
        "random_tensor =  torch.rand(1, 3,4)\n",
        "random_tensor"
      ],
      "metadata": {
        "colab": {
          "base_uri": "https://localhost:8080/"
        },
        "id": "U1JfGJhJueed",
        "outputId": "bb3e4288-3046-4329-f192-91ef331859eb"
      },
      "execution_count": 21,
      "outputs": [
        {
          "output_type": "execute_result",
          "data": {
            "text/plain": [
              "tensor([[[0.7935, 0.6956, 0.5792, 0.0823],\n",
              "         [0.6845, 0.3687, 0.7499, 0.5070],\n",
              "         [0.0695, 0.3655, 0.6353, 0.0953]]])"
            ]
          },
          "metadata": {},
          "execution_count": 21
        }
      ]
    },
    {
      "cell_type": "code",
      "source": [
        "random_tensor.ndim"
      ],
      "metadata": {
        "colab": {
          "base_uri": "https://localhost:8080/"
        },
        "id": "FNJYgkmewidX",
        "outputId": "da248b7d-6079-43c1-bf39-9007893af2d7"
      },
      "execution_count": 22,
      "outputs": [
        {
          "output_type": "execute_result",
          "data": {
            "text/plain": [
              "3"
            ]
          },
          "metadata": {},
          "execution_count": 22
        }
      ]
    },
    {
      "cell_type": "code",
      "source": [
        "random_tensor.shape"
      ],
      "metadata": {
        "colab": {
          "base_uri": "https://localhost:8080/"
        },
        "id": "Z-oKK_d1wqee",
        "outputId": "cdb6e7fe-b462-4422-d5a7-ea7cf9925dc0"
      },
      "execution_count": 23,
      "outputs": [
        {
          "output_type": "execute_result",
          "data": {
            "text/plain": [
              "torch.Size([1, 3, 4])"
            ]
          },
          "metadata": {},
          "execution_count": 23
        }
      ]
    },
    {
      "cell_type": "code",
      "source": [
        "# create a random tensor of size/ shape (3,4)\n",
        "\n",
        "random_tensor =  torch.rand(1,11,4)\n",
        "random_tensor"
      ],
      "metadata": {
        "colab": {
          "base_uri": "https://localhost:8080/"
        },
        "id": "khAiT8NkwtLx",
        "outputId": "981062b0-1231-4546-c607-60a610740a43"
      },
      "execution_count": 24,
      "outputs": [
        {
          "output_type": "execute_result",
          "data": {
            "text/plain": [
              "tensor([[[0.6953, 0.9164, 0.9827, 0.8160],\n",
              "         [0.4980, 0.9627, 0.3239, 0.1144],\n",
              "         [0.7859, 0.4105, 0.1659, 0.4212],\n",
              "         [0.0995, 0.6483, 0.3898, 0.7720],\n",
              "         [0.6829, 0.1981, 0.5767, 0.3259],\n",
              "         [0.7152, 0.0454, 0.7277, 0.8659],\n",
              "         [0.5275, 0.2370, 0.6184, 0.6089],\n",
              "         [0.4903, 0.3174, 0.8049, 0.0392],\n",
              "         [0.1538, 0.0305, 0.7633, 0.2382],\n",
              "         [0.6055, 0.2077, 0.0464, 0.8238],\n",
              "         [0.3467, 0.3412, 0.2422, 0.8392]]])"
            ]
          },
          "metadata": {},
          "execution_count": 24
        }
      ]
    },
    {
      "cell_type": "code",
      "source": [
        "random_tensor.ndim"
      ],
      "metadata": {
        "colab": {
          "base_uri": "https://localhost:8080/"
        },
        "id": "uMrD-Rayw5PP",
        "outputId": "00a004ad-38ae-42f5-d69f-b633cd3fe4b4"
      },
      "execution_count": 25,
      "outputs": [
        {
          "output_type": "execute_result",
          "data": {
            "text/plain": [
              "3"
            ]
          },
          "metadata": {},
          "execution_count": 25
        }
      ]
    },
    {
      "cell_type": "code",
      "source": [
        "# create a random tensor with similar shape to an image tensor\n",
        "\n",
        "random_image_size_tensor =  torch.rand(244,244, 3) # heightt , width , color channel \n",
        "random_image_size_tensor.shape, random_image_size_tensor.ndim\n"
      ],
      "metadata": {
        "colab": {
          "base_uri": "https://localhost:8080/"
        },
        "id": "_w2xGnN0w4Qp",
        "outputId": "1670adf7-7edc-4b68-d649-186a01d4f53e"
      },
      "execution_count": 26,
      "outputs": [
        {
          "output_type": "execute_result",
          "data": {
            "text/plain": [
              "(torch.Size([244, 244, 3]), 3)"
            ]
          },
          "metadata": {},
          "execution_count": 26
        }
      ]
    },
    {
      "cell_type": "code",
      "source": [
        "torch.rand(3,3)"
      ],
      "metadata": {
        "colab": {
          "base_uri": "https://localhost:8080/"
        },
        "id": "ZbMVOFsmzeyq",
        "outputId": "96ebc48e-e3a2-4223-9fb1-c0aff0e76bb0"
      },
      "execution_count": 27,
      "outputs": [
        {
          "output_type": "execute_result",
          "data": {
            "text/plain": [
              "tensor([[0.7387, 0.7786, 0.3890],\n",
              "        [0.9684, 0.5270, 0.0148],\n",
              "        [0.5839, 0.1710, 0.2022]])"
            ]
          },
          "metadata": {},
          "execution_count": 27
        }
      ]
    },
    {
      "cell_type": "markdown",
      "source": [
        "\n",
        "### Zeros and ones \n",
        "---\n",
        "\n",
        "\n",
        "\n",
        "---\n",
        "\n"
      ],
      "metadata": {
        "id": "F394xYTBzDuc"
      }
    },
    {
      "cell_type": "code",
      "source": [
        "# create a tensor of all ones \n",
        "zeros = torch.zeros(size = (3,4))\n",
        "zeros"
      ],
      "metadata": {
        "colab": {
          "base_uri": "https://localhost:8080/"
        },
        "id": "Ro9h_CMh0Dyp",
        "outputId": "2382c5de-a8a1-4e18-f035-e1b0d7019f1c"
      },
      "execution_count": 28,
      "outputs": [
        {
          "output_type": "execute_result",
          "data": {
            "text/plain": [
              "tensor([[0., 0., 0., 0.],\n",
              "        [0., 0., 0., 0.],\n",
              "        [0., 0., 0., 0.]])"
            ]
          },
          "metadata": {},
          "execution_count": 28
        }
      ]
    },
    {
      "cell_type": "code",
      "source": [
        "zeros.dtype"
      ],
      "metadata": {
        "colab": {
          "base_uri": "https://localhost:8080/"
        },
        "id": "CYrqq3Zr0L-J",
        "outputId": "6a5ea1de-669f-4b77-984a-43fbfb6c70ca"
      },
      "execution_count": 29,
      "outputs": [
        {
          "output_type": "execute_result",
          "data": {
            "text/plain": [
              "torch.float32"
            ]
          },
          "metadata": {},
          "execution_count": 29
        }
      ]
    },
    {
      "cell_type": "code",
      "source": [
        "# create a tensor of all ones \n",
        "ones = torch.ones(size = (3,4))\n",
        "ones"
      ],
      "metadata": {
        "colab": {
          "base_uri": "https://localhost:8080/"
        },
        "id": "pj3LUL4szqeJ",
        "outputId": "3c60e697-1ef4-4f0b-9142-b23564c31df4"
      },
      "execution_count": 30,
      "outputs": [
        {
          "output_type": "execute_result",
          "data": {
            "text/plain": [
              "tensor([[1., 1., 1., 1.],\n",
              "        [1., 1., 1., 1.],\n",
              "        [1., 1., 1., 1.]])"
            ]
          },
          "metadata": {},
          "execution_count": 30
        }
      ]
    },
    {
      "cell_type": "code",
      "source": [
        "ones.dtype"
      ],
      "metadata": {
        "colab": {
          "base_uri": "https://localhost:8080/"
        },
        "id": "bJfwAaTjz9-4",
        "outputId": "f2d7906f-6c0c-4cfd-e8b3-06c5f7d417ed"
      },
      "execution_count": 31,
      "outputs": [
        {
          "output_type": "execute_result",
          "data": {
            "text/plain": [
              "torch.float32"
            ]
          },
          "metadata": {},
          "execution_count": 31
        }
      ]
    },
    {
      "cell_type": "markdown",
      "source": [
        "#### Create a range of tensors and tensors like"
      ],
      "metadata": {
        "id": "63bCFO2i0Zt3"
      }
    },
    {
      "cell_type": "code",
      "source": [
        "# Use torch.range()\n",
        "torch.arange(15)"
      ],
      "metadata": {
        "colab": {
          "base_uri": "https://localhost:8080/"
        },
        "id": "ieqaEiBA0eWK",
        "outputId": "c6a204e3-4f68-40d3-d5b2-49ce82545413"
      },
      "execution_count": 32,
      "outputs": [
        {
          "output_type": "execute_result",
          "data": {
            "text/plain": [
              "tensor([ 0,  1,  2,  3,  4,  5,  6,  7,  8,  9, 10, 11, 12, 13, 14])"
            ]
          },
          "metadata": {},
          "execution_count": 32
        }
      ]
    },
    {
      "cell_type": "code",
      "source": [
        "torch.arange(1, 11)"
      ],
      "metadata": {
        "colab": {
          "base_uri": "https://localhost:8080/"
        },
        "id": "ftBvS_RD0psj",
        "outputId": "be46b780-f10d-47ee-e3a2-0bea8cf47997"
      },
      "execution_count": 33,
      "outputs": [
        {
          "output_type": "execute_result",
          "data": {
            "text/plain": [
              "tensor([ 1,  2,  3,  4,  5,  6,  7,  8,  9, 10])"
            ]
          },
          "metadata": {},
          "execution_count": 33
        }
      ]
    },
    {
      "cell_type": "code",
      "source": [
        "# Create a range start by range \n",
        "one_to_ten = torch.arange(start = 0, end = 10, step = 2)\n",
        "one_to_ten\n"
      ],
      "metadata": {
        "colab": {
          "base_uri": "https://localhost:8080/"
        },
        "id": "Fz0IrfAK0xIB",
        "outputId": "706f8323-6bd0-4863-cc46-e34ba42f130e"
      },
      "execution_count": 34,
      "outputs": [
        {
          "output_type": "execute_result",
          "data": {
            "text/plain": [
              "tensor([0, 2, 4, 6, 8])"
            ]
          },
          "metadata": {},
          "execution_count": 34
        }
      ]
    },
    {
      "cell_type": "code",
      "source": [
        "#Create tensors like\n",
        "ten_zeros = torch.zeros_like(one_to_ten)\n",
        "ten_zeros "
      ],
      "metadata": {
        "colab": {
          "base_uri": "https://localhost:8080/"
        },
        "id": "MEYMsfSF1DCJ",
        "outputId": "30e59dbf-97a0-416f-fb34-342b55dd45be"
      },
      "execution_count": 35,
      "outputs": [
        {
          "output_type": "execute_result",
          "data": {
            "text/plain": [
              "tensor([0, 0, 0, 0, 0])"
            ]
          },
          "metadata": {},
          "execution_count": 35
        }
      ]
    },
    {
      "cell_type": "markdown",
      "source": [
        "#### Tensor datatypes"
      ],
      "metadata": {
        "id": "0Wuia9p02hE5"
      }
    },
    {
      "cell_type": "code",
      "source": [
        "# float  tensor\n",
        "float_32_tensor = torch.tensor([3.0, 6.6, 9.0], \n",
        "                               dtype =None, # what datatype is  the tensor\n",
        "                               device =None, # What device is your tensor on \n",
        "                               requires_grad =False) # while i want pytorch to track the gradients or not\n",
        "float_32_tensor"
      ],
      "metadata": {
        "colab": {
          "base_uri": "https://localhost:8080/"
        },
        "id": "E-YsQ9YD2cJU",
        "outputId": "2062dda0-bd3e-4c25-ee9e-aada2957109f"
      },
      "execution_count": 36,
      "outputs": [
        {
          "output_type": "execute_result",
          "data": {
            "text/plain": [
              "tensor([3.0000, 6.6000, 9.0000])"
            ]
          },
          "metadata": {},
          "execution_count": 36
        }
      ]
    },
    {
      "cell_type": "markdown",
      "source": [
        "In computer science, the precision of a numerical quantity is a measure of the detail in which the quantity is expressed. This is usually measured in bits, but sometimes in decimal digits. It is related to precision in mathematics, which describes the number of digits that are used to express a value.\n",
        "\n",
        "This is for differenciate the 16 bits floating point and 32 bits floating point.\n",
        "Therefore, 32 bits floating is single precision while 16 bits floating is half precision."
      ],
      "metadata": {
        "id": "LfJMBQTV-s-v"
      }
    },
    {
      "cell_type": "markdown",
      "source": [
        "Note: Tensor datatypes is one of the 3 big errors you willl run into with PyTorch and Deep learning:\n",
        "\n",
        "1. Tnesor not right datatype\n",
        "2. Tensors not right shape \n",
        "3. Tensors not on the right device\n",
        "\n",
        "https://en.wikipedia.org/wiki/Precision_(computer_science)"
      ],
      "metadata": {
        "id": "39PsSCYu_0L7"
      }
    },
    {
      "cell_type": "code",
      "source": [
        "float_32_tensor.dtype"
      ],
      "metadata": {
        "colab": {
          "base_uri": "https://localhost:8080/"
        },
        "id": "64MBfsbB-rBG",
        "outputId": "f4d33559-6205-4d7c-996f-77a798aec033"
      },
      "execution_count": 37,
      "outputs": [
        {
          "output_type": "execute_result",
          "data": {
            "text/plain": [
              "torch.float32"
            ]
          },
          "metadata": {},
          "execution_count": 37
        }
      ]
    },
    {
      "cell_type": "code",
      "source": [
        "# convert tensor 32 to 16 floats\n",
        "float_16_tensor = float_32_tensor.type(torch.float16)\n",
        "float_16_tensor "
      ],
      "metadata": {
        "colab": {
          "base_uri": "https://localhost:8080/"
        },
        "id": "BR-po8K9Di2x",
        "outputId": "f4d496c7-ae2c-42be-f447-8e4d7bf77a1d"
      },
      "execution_count": 38,
      "outputs": [
        {
          "output_type": "execute_result",
          "data": {
            "text/plain": [
              "tensor([3.0000, 6.6016, 9.0000], dtype=torch.float16)"
            ]
          },
          "metadata": {},
          "execution_count": 38
        }
      ]
    },
    {
      "cell_type": "code",
      "source": [
        "multiply_tensors_with_diff_dtype  = (float_16_tensor * float_32_tensor)\n",
        "multiply_tensors_with_diff_dtype"
      ],
      "metadata": {
        "colab": {
          "base_uri": "https://localhost:8080/"
        },
        "id": "hbnmXXOPEV8n",
        "outputId": "986b1ab2-2273-4835-ec06-db37ba8affa1"
      },
      "execution_count": 39,
      "outputs": [
        {
          "output_type": "execute_result",
          "data": {
            "text/plain": [
              "tensor([ 9.0000, 43.5703, 81.0000])"
            ]
          },
          "metadata": {},
          "execution_count": 39
        }
      ]
    },
    {
      "cell_type": "code",
      "source": [
        "int_32_tensor = torch.tensor([3,6,9], dtype = torch.int32)\n",
        "int_32_tensor"
      ],
      "metadata": {
        "colab": {
          "base_uri": "https://localhost:8080/"
        },
        "id": "daErgYSGFNSg",
        "outputId": "d0fb4d33-bf3f-466c-9e1f-4e02ab1042e9"
      },
      "execution_count": 40,
      "outputs": [
        {
          "output_type": "execute_result",
          "data": {
            "text/plain": [
              "tensor([3, 6, 9], dtype=torch.int32)"
            ]
          },
          "metadata": {},
          "execution_count": 40
        }
      ]
    },
    {
      "cell_type": "code",
      "source": [
        "float_32_tensor * int_32_tensor"
      ],
      "metadata": {
        "colab": {
          "base_uri": "https://localhost:8080/"
        },
        "id": "y49dtU0WFddC",
        "outputId": "22462f47-e391-44ba-99eb-11e340061b33"
      },
      "execution_count": 41,
      "outputs": [
        {
          "output_type": "execute_result",
          "data": {
            "text/plain": [
              "tensor([ 9.0000, 39.6000, 81.0000])"
            ]
          },
          "metadata": {},
          "execution_count": 41
        }
      ]
    },
    {
      "cell_type": "code",
      "source": [
        "int_64_tensor = torch.tensor([3,6,9], dtype = torch.int64)\n",
        "int_64_tensor"
      ],
      "metadata": {
        "colab": {
          "base_uri": "https://localhost:8080/"
        },
        "id": "PpG7fSOEFniL",
        "outputId": "4a4216cf-e81f-4176-b843-b22759ccf76c"
      },
      "execution_count": 42,
      "outputs": [
        {
          "output_type": "execute_result",
          "data": {
            "text/plain": [
              "tensor([3, 6, 9])"
            ]
          },
          "metadata": {},
          "execution_count": 42
        }
      ]
    },
    {
      "cell_type": "code",
      "source": [
        "float_32_tensor * int_64_tensor"
      ],
      "metadata": {
        "colab": {
          "base_uri": "https://localhost:8080/"
        },
        "id": "kst-pSmHFphn",
        "outputId": "3ebe8569-f8ae-4c3b-a06c-0936f817c6fa"
      },
      "execution_count": 43,
      "outputs": [
        {
          "output_type": "execute_result",
          "data": {
            "text/plain": [
              "tensor([ 9.0000, 39.6000, 81.0000])"
            ]
          },
          "metadata": {},
          "execution_count": 43
        }
      ]
    },
    {
      "cell_type": "code",
      "source": [
        "Long_tensor = torch.tensor([3,6,9], dtype = torch.long)\n",
        "Long_tensor"
      ],
      "metadata": {
        "colab": {
          "base_uri": "https://localhost:8080/"
        },
        "id": "vI3pd-lVFzCa",
        "outputId": "2f4476aa-abee-44af-8381-434540c61074"
      },
      "execution_count": 44,
      "outputs": [
        {
          "output_type": "execute_result",
          "data": {
            "text/plain": [
              "tensor([3, 6, 9])"
            ]
          },
          "metadata": {},
          "execution_count": 44
        }
      ]
    },
    {
      "cell_type": "code",
      "source": [
        "float_32_tensor * Long_tensor"
      ],
      "metadata": {
        "colab": {
          "base_uri": "https://localhost:8080/"
        },
        "id": "QVIQURzGGNop",
        "outputId": "4d5b8731-f8a0-4814-8fa7-5922e0cec14b"
      },
      "execution_count": 45,
      "outputs": [
        {
          "output_type": "execute_result",
          "data": {
            "text/plain": [
              "tensor([ 9.0000, 39.6000, 81.0000])"
            ]
          },
          "metadata": {},
          "execution_count": 45
        }
      ]
    },
    {
      "cell_type": "markdown",
      "source": [
        "### Getting information from tensors (tensor attributes)\n",
        "\n",
        "1. Tnesor not right datatype - to do datatype from a tensor, can use tensor.dtype\n",
        "2. Tensors not right shape - to get shape from a tensor, can use tensor.shape \n",
        "3. Tensors not on the right device - to get device from a tensor, can use tensor.device"
      ],
      "metadata": {
        "id": "C8WgvU9XGUmm"
      }
    },
    {
      "cell_type": "code",
      "source": [
        "## Create a tensor \n",
        "\n",
        "some_tensor =  torch.rand(3,4)\n",
        "some_tensor"
      ],
      "metadata": {
        "colab": {
          "base_uri": "https://localhost:8080/"
        },
        "id": "Hgq_ywSvGyXu",
        "outputId": "00223a37-1274-405b-c801-f76c21dcd635"
      },
      "execution_count": 46,
      "outputs": [
        {
          "output_type": "execute_result",
          "data": {
            "text/plain": [
              "tensor([[0.1730, 0.1315, 0.3077, 0.2125],\n",
              "        [0.0795, 0.4531, 0.2576, 0.0479],\n",
              "        [0.3758, 0.1542, 0.7305, 0.5565]])"
            ]
          },
          "metadata": {},
          "execution_count": 46
        }
      ]
    },
    {
      "cell_type": "code",
      "source": [
        "some_tensor.size, some_tensor.shape"
      ],
      "metadata": {
        "colab": {
          "base_uri": "https://localhost:8080/"
        },
        "id": "onNfxIJDHGht",
        "outputId": "f406dc48-3f93-42ca-df7f-12fcb245fc1b"
      },
      "execution_count": 47,
      "outputs": [
        {
          "output_type": "execute_result",
          "data": {
            "text/plain": [
              "(<function Tensor.size>, torch.Size([3, 4]))"
            ]
          },
          "metadata": {},
          "execution_count": 47
        }
      ]
    },
    {
      "cell_type": "code",
      "source": [
        "some_tensor.size()"
      ],
      "metadata": {
        "colab": {
          "base_uri": "https://localhost:8080/"
        },
        "id": "dzsfsS0lHu59",
        "outputId": "a0ca05ba-30ae-455c-e83c-674904410d98"
      },
      "execution_count": 48,
      "outputs": [
        {
          "output_type": "execute_result",
          "data": {
            "text/plain": [
              "torch.Size([3, 4])"
            ]
          },
          "metadata": {},
          "execution_count": 48
        }
      ]
    },
    {
      "cell_type": "code",
      "source": [
        "# Find out details about some tensor \n",
        "print(some_tensor)\n",
        "print(f'Datatype of tensors: {some_tensor.dtype}')\n",
        "print(f'Shape of tensor: {some_tensor.shape}')\n",
        "print(f'Device tensor is on : {some_tensor.device}')"
      ],
      "metadata": {
        "colab": {
          "base_uri": "https://localhost:8080/"
        },
        "id": "SUy7CiDeG996",
        "outputId": "67b0d235-61a6-4909-b8e1-83a327710386"
      },
      "execution_count": 49,
      "outputs": [
        {
          "output_type": "stream",
          "name": "stdout",
          "text": [
            "tensor([[0.1730, 0.1315, 0.3077, 0.2125],\n",
            "        [0.0795, 0.4531, 0.2576, 0.0479],\n",
            "        [0.3758, 0.1542, 0.7305, 0.5565]])\n",
            "Datatype of tensors: torch.float32\n",
            "Shape of tensor: torch.Size([3, 4])\n",
            "Device tensor is on : cpu\n"
          ]
        }
      ]
    },
    {
      "cell_type": "code",
      "source": [
        "# Change the devise of Tensors\n",
        "new_device = torch.device(\"cuda:0\")  # Example device, e.g., GPU 0\n",
        "some_tensor = some_tensor.to(new_device)\n",
        "some_tensor"
      ],
      "metadata": {
        "colab": {
          "base_uri": "https://localhost:8080/"
        },
        "id": "Ri3_TuGbI-WP",
        "outputId": "f407488d-d924-4b84-ab85-ba52741256c6"
      },
      "execution_count": 50,
      "outputs": [
        {
          "output_type": "execute_result",
          "data": {
            "text/plain": [
              "tensor([[0.1730, 0.1315, 0.3077, 0.2125],\n",
              "        [0.0795, 0.4531, 0.2576, 0.0479],\n",
              "        [0.3758, 0.1542, 0.7305, 0.5565]], device='cuda:0')"
            ]
          },
          "metadata": {},
          "execution_count": 50
        }
      ]
    },
    {
      "cell_type": "markdown",
      "source": [
        "#### Maninpulating Tensors (tensor operations)\n",
        "\n",
        "## How to change the device of tensor\n",
        "Tensor operations includes:\n",
        "* Addition\n",
        "* Substration\n",
        "* Multiplication (element wise)\n",
        "* Division\n",
        "* Matrix"
      ],
      "metadata": {
        "id": "AfkV8--4IcNr"
      }
    },
    {
      "cell_type": "code",
      "source": [
        "# Create a tensor\n",
        "tensor =  torch.tensor([1,2,3])\n",
        "tensor + 10"
      ],
      "metadata": {
        "colab": {
          "base_uri": "https://localhost:8080/"
        },
        "id": "V5ahokyrIWdV",
        "outputId": "74772ea6-b3fe-4b3d-9e99-3c7b146f887a"
      },
      "execution_count": 51,
      "outputs": [
        {
          "output_type": "execute_result",
          "data": {
            "text/plain": [
              "tensor([11, 12, 13])"
            ]
          },
          "metadata": {},
          "execution_count": 51
        }
      ]
    },
    {
      "cell_type": "code",
      "source": [
        "# multiply the tensor by 10\n",
        "tensor * 10"
      ],
      "metadata": {
        "colab": {
          "base_uri": "https://localhost:8080/"
        },
        "id": "w_f6GoJVK5fU",
        "outputId": "23829cfa-3c71-44d1-e1f0-f7c313983fa2"
      },
      "execution_count": 52,
      "outputs": [
        {
          "output_type": "execute_result",
          "data": {
            "text/plain": [
              "tensor([10, 20, 30])"
            ]
          },
          "metadata": {},
          "execution_count": 52
        }
      ]
    },
    {
      "cell_type": "code",
      "source": [
        "# Substract the tensor by 10\n",
        "tensor - 10"
      ],
      "metadata": {
        "colab": {
          "base_uri": "https://localhost:8080/"
        },
        "id": "SzIHePvGLNNB",
        "outputId": "1b148d88-84e9-4ef1-a088-a9183aae7133"
      },
      "execution_count": 53,
      "outputs": [
        {
          "output_type": "execute_result",
          "data": {
            "text/plain": [
              "tensor([-9, -8, -7])"
            ]
          },
          "metadata": {},
          "execution_count": 53
        }
      ]
    },
    {
      "cell_type": "code",
      "source": [
        "# Try out Pytorch in build function \n",
        "torch.mul(tensor, 10)"
      ],
      "metadata": {
        "colab": {
          "base_uri": "https://localhost:8080/"
        },
        "id": "imSc-EL4LSqW",
        "outputId": "efad616d-d4c7-454d-a850-4dc77f6241b4"
      },
      "execution_count": 54,
      "outputs": [
        {
          "output_type": "execute_result",
          "data": {
            "text/plain": [
              "tensor([10, 20, 30])"
            ]
          },
          "metadata": {},
          "execution_count": 54
        }
      ]
    },
    {
      "cell_type": "code",
      "source": [
        "torch.add(tensor, 10)"
      ],
      "metadata": {
        "colab": {
          "base_uri": "https://localhost:8080/"
        },
        "id": "_NFzyEALM94D",
        "outputId": "855093f6-57db-4d10-d93b-51e5d49aed76"
      },
      "execution_count": 55,
      "outputs": [
        {
          "output_type": "execute_result",
          "data": {
            "text/plain": [
              "tensor([11, 12, 13])"
            ]
          },
          "metadata": {},
          "execution_count": 55
        }
      ]
    },
    {
      "cell_type": "markdown",
      "source": [
        "### Matrix multiplication\n",
        "\n",
        "Two main ways of performing multiplication in neural networks and deep learning: \n",
        "\n",
        "  * Element wise mutliplication\n",
        "  * Matrix multiplication(dot pruduct)\n",
        "\n",
        "  More information on multiplication matrices: https://www.cliffsnotes.com/study-guides/algebra/linear-algebra/matrix-algebra/operations-with-matrice\n",
        "\n",
        "  There are two main rules that performing matrix multiplication needs to satisfy:\n",
        "1. The **inner dimensons** must match:\n",
        "    * `(3, 2) @ (3, 2)` will not work\n",
        "    * `(2, 3) @ (3, 2)` will work\n",
        "    * `(3, 2) @ (2, 3)` will work\n",
        "\n",
        "2. The resulting matrix has the shape pf **outer dimensions**:\n",
        "    * `(2, 3) @ (3, 2)` -> `(2, 2)`\n",
        "    * `(3, 2) @ (2, 3)` -> `(3, 3)`"
      ],
      "metadata": {
        "id": "P0DwGJ4INBUP"
      }
    },
    {
      "cell_type": "code",
      "source": [
        "# torch.matmul(torch.rand(3,2), torch.rand(3,2) ) # Error is causing my inner dimension which is not matching each other."
      ],
      "metadata": {
        "id": "277VjBB3Sy2G"
      },
      "execution_count": 56,
      "outputs": []
    },
    {
      "cell_type": "code",
      "source": [
        "torch.matmul(torch.rand(3,2), torch.rand(2,2) ) "
      ],
      "metadata": {
        "colab": {
          "base_uri": "https://localhost:8080/"
        },
        "id": "Npxw6bSxTV6K",
        "outputId": "bc16abcb-c085-4013-80fe-bd8567c17d5b"
      },
      "execution_count": 57,
      "outputs": [
        {
          "output_type": "execute_result",
          "data": {
            "text/plain": [
              "tensor([[0.3695, 0.2817],\n",
              "        [0.7429, 0.5748],\n",
              "        [0.6275, 0.4768]])"
            ]
          },
          "metadata": {},
          "execution_count": 57
        }
      ]
    },
    {
      "cell_type": "code",
      "source": [
        "torch.matmul(torch.rand(2,3), torch.rand(3,2) ) "
      ],
      "metadata": {
        "colab": {
          "base_uri": "https://localhost:8080/"
        },
        "id": "OfNsLFrwUS92",
        "outputId": "fb01e869-ee3a-4127-c690-a04b92391549"
      },
      "execution_count": 58,
      "outputs": [
        {
          "output_type": "execute_result",
          "data": {
            "text/plain": [
              "tensor([[0.7618, 0.7736],\n",
              "        [1.1879, 0.8171]])"
            ]
          },
          "metadata": {},
          "execution_count": 58
        }
      ]
    },
    {
      "cell_type": "code",
      "source": [
        "torch.matmul(torch.rand(2,10), torch.rand(10,3) ) "
      ],
      "metadata": {
        "colab": {
          "base_uri": "https://localhost:8080/"
        },
        "id": "8inRrHwIUkbe",
        "outputId": "d0d940c5-5776-486a-d11a-53247283469f"
      },
      "execution_count": 59,
      "outputs": [
        {
          "output_type": "execute_result",
          "data": {
            "text/plain": [
              "tensor([[2.9851, 2.7193, 1.7019],\n",
              "        [3.2790, 2.6253, 1.8248]])"
            ]
          },
          "metadata": {},
          "execution_count": 59
        }
      ]
    },
    {
      "cell_type": "code",
      "source": [
        "torch.matmul(torch.rand(3,10), torch.rand(10,3) ) "
      ],
      "metadata": {
        "colab": {
          "base_uri": "https://localhost:8080/"
        },
        "id": "O8TM5z9mUytS",
        "outputId": "6ce23ffa-5596-42e7-fb31-e5eb3cb4ab60"
      },
      "execution_count": 60,
      "outputs": [
        {
          "output_type": "execute_result",
          "data": {
            "text/plain": [
              "tensor([[2.0912, 2.3064, 2.5398],\n",
              "        [2.3342, 2.4569, 2.4205],\n",
              "        [2.8524, 2.7206, 3.0617]])"
            ]
          },
          "metadata": {},
          "execution_count": 60
        }
      ]
    },
    {
      "cell_type": "code",
      "source": [
        "torch.matmul(torch.rand(2,10), torch.rand(10,15) ) "
      ],
      "metadata": {
        "colab": {
          "base_uri": "https://localhost:8080/"
        },
        "id": "cNTK7PAWU2Yy",
        "outputId": "7f0c59c6-76be-4d96-e905-df4e7e876e05"
      },
      "execution_count": 61,
      "outputs": [
        {
          "output_type": "execute_result",
          "data": {
            "text/plain": [
              "tensor([[3.1804, 3.4463, 2.7515, 2.4441, 2.2152, 2.1139, 3.0406, 2.4737, 2.8098,\n",
              "         2.4375, 3.4887, 3.2097, 2.3845, 3.0046, 3.4160],\n",
              "        [3.6214, 3.0258, 2.6153, 3.2246, 1.8579, 2.2138, 2.8215, 3.0533, 2.1604,\n",
              "         1.9809, 3.0328, 3.8199, 2.8235, 3.2651, 3.6822]])"
            ]
          },
          "metadata": {},
          "execution_count": 61
        }
      ]
    },
    {
      "cell_type": "code",
      "source": [
        "# Element wise multiploication\n",
        "print(tensor, '*', tensor)\n",
        "print(f'Equals: {tensor * tensor}')"
      ],
      "metadata": {
        "colab": {
          "base_uri": "https://localhost:8080/"
        },
        "id": "lVYAuzVyPhFK",
        "outputId": "0279e8fa-b049-442e-98b9-0abe18f1fd61"
      },
      "execution_count": 62,
      "outputs": [
        {
          "output_type": "stream",
          "name": "stdout",
          "text": [
            "tensor([1, 2, 3]) * tensor([1, 2, 3])\n",
            "Equals: tensor([1, 4, 9])\n"
          ]
        }
      ]
    },
    {
      "cell_type": "markdown",
      "source": [],
      "metadata": {
        "id": "Rn_RMN8LTo6r"
      }
    },
    {
      "cell_type": "code",
      "source": [
        "# Matrix Multiplication\n",
        "\n",
        "torch.matmul(tensor, tensor )"
      ],
      "metadata": {
        "colab": {
          "base_uri": "https://localhost:8080/"
        },
        "id": "rYONL3cuPyIk",
        "outputId": "ed8bf0de-b364-4b12-ae42-ce980e004004"
      },
      "execution_count": 63,
      "outputs": [
        {
          "output_type": "execute_result",
          "data": {
            "text/plain": [
              "tensor(14)"
            ]
          },
          "metadata": {},
          "execution_count": 63
        }
      ]
    },
    {
      "cell_type": "code",
      "source": [
        "tensor"
      ],
      "metadata": {
        "colab": {
          "base_uri": "https://localhost:8080/"
        },
        "id": "bEZ_0vc_QiQe",
        "outputId": "2f983c76-743b-4c98-a8d4-de1be5163472"
      },
      "execution_count": 64,
      "outputs": [
        {
          "output_type": "execute_result",
          "data": {
            "text/plain": [
              "tensor([1, 2, 3])"
            ]
          },
          "metadata": {},
          "execution_count": 64
        }
      ]
    },
    {
      "cell_type": "code",
      "source": [
        "tensor @ tensor"
      ],
      "metadata": {
        "colab": {
          "base_uri": "https://localhost:8080/"
        },
        "id": "8U1NckJdSMRw",
        "outputId": "0d63784b-be52-4aeb-b732-eadb158a7f37"
      },
      "execution_count": 65,
      "outputs": [
        {
          "output_type": "execute_result",
          "data": {
            "text/plain": [
              "tensor(14)"
            ]
          },
          "metadata": {},
          "execution_count": 65
        }
      ]
    },
    {
      "cell_type": "code",
      "source": [
        "# Matrix multiplication by hand \n",
        "1*1 + 2*2 + 3*3"
      ],
      "metadata": {
        "colab": {
          "base_uri": "https://localhost:8080/"
        },
        "id": "vNxZFuPWQTR_",
        "outputId": "df792309-93d1-44bd-e31e-bfd912bd3701"
      },
      "execution_count": 66,
      "outputs": [
        {
          "output_type": "execute_result",
          "data": {
            "text/plain": [
              "14"
            ]
          },
          "metadata": {},
          "execution_count": 66
        }
      ]
    },
    {
      "cell_type": "code",
      "source": [
        "%%time\n",
        "value  = 0\n",
        "for i in range(len(tensor)):\n",
        "  value += tensor[i] * tensor[i]\n",
        "print(value)"
      ],
      "metadata": {
        "colab": {
          "base_uri": "https://localhost:8080/"
        },
        "id": "IVcig_BFQksG",
        "outputId": "ed5bea61-b394-496c-8c97-2706948bc270"
      },
      "execution_count": 67,
      "outputs": [
        {
          "output_type": "stream",
          "name": "stdout",
          "text": [
            "tensor(14)\n",
            "CPU times: user 1.25 ms, sys: 58 µs, total: 1.31 ms\n",
            "Wall time: 1.41 ms\n"
          ]
        }
      ]
    },
    {
      "cell_type": "code",
      "source": [
        "%%time\n",
        "torch.matmul(tensor, tensor)"
      ],
      "metadata": {
        "colab": {
          "base_uri": "https://localhost:8080/"
        },
        "id": "qtUH0u1NRCnR",
        "outputId": "2fd19d0b-6018-46ca-ffda-9e6d13fb08f8"
      },
      "execution_count": 68,
      "outputs": [
        {
          "output_type": "stream",
          "name": "stdout",
          "text": [
            "CPU times: user 797 µs, sys: 0 ns, total: 797 µs\n",
            "Wall time: 4.37 ms\n"
          ]
        },
        {
          "output_type": "execute_result",
          "data": {
            "text/plain": [
              "tensor(14)"
            ]
          },
          "metadata": {},
          "execution_count": 68
        }
      ]
    },
    {
      "cell_type": "markdown",
      "source": [
        "### One of the most common errors in deep learning: shape error"
      ],
      "metadata": {
        "id": "X_FbR0hIVkpq"
      }
    },
    {
      "cell_type": "markdown",
      "source": [
        "https://byjus.com/maths/matrix-multiplication/#:~:text=Matrix%20multiplication%2C%20also%20known%20as,X%20%3D%20AB"
      ],
      "metadata": {
        "id": "f5XtpXYl9kZX"
      }
    },
    {
      "cell_type": "code",
      "source": [
        "# Shape for matrix multiplication \n",
        "tensor_A = torch.tensor (\n",
        "  [  [1, 2],\n",
        "    [3, 4],\n",
        "    [5, 6]]\n",
        "  \n",
        ")\n",
        "\n",
        "tensor_B = torch.tensor(\n",
        "  [  [7, 10],\n",
        "    [8, 11],\n",
        "    [9, 12]]\n",
        ")\n",
        "\n",
        "torch.mum(tensor_A, tensor_B)"
      ],
      "metadata": {
        "colab": {
          "base_uri": "https://localhost:8080/",
          "height": 209
        },
        "id": "dWX7G9dYRqWR",
        "outputId": "e0cf16cb-1d47-406c-cd91-4d34406bf2b0"
      },
      "execution_count": 69,
      "outputs": [
        {
          "output_type": "error",
          "ename": "AttributeError",
          "evalue": "ignored",
          "traceback": [
            "\u001b[0;31m---------------------------------------------------------------------------\u001b[0m",
            "\u001b[0;31mAttributeError\u001b[0m                            Traceback (most recent call last)",
            "\u001b[0;32m<ipython-input-69-c33a625cf218>\u001b[0m in \u001b[0;36m<cell line: 15>\u001b[0;34m()\u001b[0m\n\u001b[1;32m     13\u001b[0m )\n\u001b[1;32m     14\u001b[0m \u001b[0;34m\u001b[0m\u001b[0m\n\u001b[0;32m---> 15\u001b[0;31m \u001b[0mtorch\u001b[0m\u001b[0;34m.\u001b[0m\u001b[0mmum\u001b[0m\u001b[0;34m(\u001b[0m\u001b[0mtensor_A\u001b[0m\u001b[0;34m,\u001b[0m \u001b[0mtensor_B\u001b[0m\u001b[0;34m)\u001b[0m\u001b[0;34m\u001b[0m\u001b[0;34m\u001b[0m\u001b[0m\n\u001b[0m",
            "\u001b[0;31mAttributeError\u001b[0m: module 'torch' has no attribute 'mum'"
          ]
        }
      ]
    },
    {
      "cell_type": "code",
      "source": [
        "tensor_B.T"
      ],
      "metadata": {
        "colab": {
          "base_uri": "https://localhost:8080/"
        },
        "id": "o1npUxSj9PBM",
        "outputId": "da50c68b-f787-4765-b3d8-f5d6b61a0e0d"
      },
      "execution_count": 78,
      "outputs": [
        {
          "output_type": "execute_result",
          "data": {
            "text/plain": [
              "tensor([[ 7,  8,  9],\n",
              "        [10, 11, 12]])"
            ]
          },
          "metadata": {},
          "execution_count": 78
        }
      ]
    },
    {
      "cell_type": "code",
      "source": [
        "tensor_A.shape, tensor_B.shape # The reason is not running is that the inner values are not similar."
      ],
      "metadata": {
        "colab": {
          "base_uri": "https://localhost:8080/"
        },
        "id": "V_qgltudoUJX",
        "outputId": "d4a83b01-9712-478a-c49b-9fcacd4255bf"
      },
      "execution_count": 74,
      "outputs": [
        {
          "output_type": "execute_result",
          "data": {
            "text/plain": [
              "(torch.Size([3, 2]), torch.Size([3, 2]))"
            ]
          },
          "metadata": {},
          "execution_count": 74
        }
      ]
    },
    {
      "cell_type": "markdown",
      "source": [
        "Solutions"
      ],
      "metadata": {
        "id": "xDDGGb7kqg2X"
      }
    },
    {
      "cell_type": "code",
      "source": [
        "# To fix the tensor shape issues, we can manipulate the sahpe of one of our tensors by using transpose, sitches the axes or dimensions of given tensor."
      ],
      "metadata": {
        "id": "dZLqjRrypx0H"
      },
      "execution_count": 77,
      "outputs": []
    },
    {
      "cell_type": "code",
      "source": [
        "tensor_A, tensor_B.T"
      ],
      "metadata": {
        "colab": {
          "base_uri": "https://localhost:8080/"
        },
        "id": "hOPfz_8PqkDU",
        "outputId": "732d55b5-f84f-4adb-b6f2-28a45529666f"
      },
      "execution_count": 75,
      "outputs": [
        {
          "output_type": "execute_result",
          "data": {
            "text/plain": [
              "(tensor([[1, 2],\n",
              "         [3, 4],\n",
              "         [5, 6]]),\n",
              " tensor([[ 7,  8,  9],\n",
              "         [10, 11, 12]]))"
            ]
          },
          "metadata": {},
          "execution_count": 75
        }
      ]
    },
    {
      "cell_type": "code",
      "source": [
        "tensor_A.shape, tensor_B.T.shape"
      ],
      "metadata": {
        "colab": {
          "base_uri": "https://localhost:8080/"
        },
        "id": "bjKVBrT1skW7",
        "outputId": "722910ac-2905-4917-e8de-256001dea206"
      },
      "execution_count": 76,
      "outputs": [
        {
          "output_type": "execute_result",
          "data": {
            "text/plain": [
              "(torch.Size([3, 2]), torch.Size([2, 3]))"
            ]
          },
          "metadata": {},
          "execution_count": 76
        }
      ]
    },
    {
      "cell_type": "markdown",
      "source": [
        "http://matrixmultiplication.xyz/"
      ],
      "metadata": {
        "id": "BN6q-FbH93XX"
      }
    },
    {
      "cell_type": "code",
      "source": [
        "# The matrix multiplication operation works when tensor_B is transposed \n",
        "print(f'Original shapes : tensor_A = {tensor_A}, tensor_B = {tensor_B}')\n",
        "print(f'New shapes: tensor_A = {tensor_A.shape}, tensor_B.T = {tensor_B.T.shape}')\n",
        "print(f'Multiplying: {tensor_A.shape} @ {tensor_B.T.shape} <- inner dimensions must match' )\n",
        "print('Output:\\n')\n",
        "output = torch.chain_matmul(tensor_A, tensor_B.T)\n",
        "\n",
        "torch.matmul(tensor_A, tensor_B.T)"
      ],
      "metadata": {
        "colab": {
          "base_uri": "https://localhost:8080/"
        },
        "id": "ZJoMoeLAr_98",
        "outputId": "b93ca80a-ff44-48d3-9451-d9ef4e3fcf82"
      },
      "execution_count": 73,
      "outputs": [
        {
          "output_type": "stream",
          "name": "stdout",
          "text": [
            "Original shapes : tensor_A = tensor([[1, 2],\n",
            "        [3, 4],\n",
            "        [5, 6]]), tensor_B = tensor([[ 7, 10],\n",
            "        [ 8, 11],\n",
            "        [ 9, 12]])\n",
            "New shapes: tensor_A = torch.Size([3, 2]), tensor_B.T = torch.Size([2, 3])\n",
            "Multiplying: torch.Size([3, 2]) @ torch.Size([2, 3]) <- inner dimensions must match\n",
            "Output:\n",
            "\n"
          ]
        },
        {
          "output_type": "stream",
          "name": "stderr",
          "text": [
            "/usr/local/lib/python3.10/dist-packages/torch/functional.py:1626: UserWarning: torch.chain_matmul is deprecated and will be removed in a future PyTorch release. Use torch.linalg.multi_dot instead, which accepts a list of two or more tensors rather than multiple parameters. (Triggered internally at ../aten/src/ATen/native/LinearAlgebra.cpp:1079.)\n",
            "  return _VF.chain_matmul(matrices)  # type: ignore[attr-defined]\n"
          ]
        },
        {
          "output_type": "execute_result",
          "data": {
            "text/plain": [
              "tensor([[ 27,  30,  33],\n",
              "        [ 61,  68,  75],\n",
              "        [ 95, 106, 117]])"
            ]
          },
          "metadata": {},
          "execution_count": 73
        }
      ]
    },
    {
      "cell_type": "markdown",
      "source": [
        "http://matrixmultiplication.xyz/"
      ],
      "metadata": {
        "id": "ngMZOM6w-Ij4"
      }
    },
    {
      "cell_type": "markdown",
      "source": [
        "## Finding the min, max, mean, sum, etc(tensor aggregation)"
      ],
      "metadata": {
        "id": "Wn4Z_6aH-Ay_"
      }
    },
    {
      "cell_type": "code",
      "source": [
        "# create a tensor\n",
        "x = torch.arange(0, 100, 10)\n",
        "x"
      ],
      "metadata": {
        "colab": {
          "base_uri": "https://localhost:8080/"
        },
        "id": "OFi1aU5b9-0y",
        "outputId": "d5ebde1f-3aeb-473d-a7f2-d73f154ae342"
      },
      "execution_count": 96,
      "outputs": [
        {
          "output_type": "execute_result",
          "data": {
            "text/plain": [
              "tensor([ 0, 10, 20, 30, 40, 50, 60, 70, 80, 90])"
            ]
          },
          "metadata": {},
          "execution_count": 96
        }
      ]
    },
    {
      "cell_type": "code",
      "source": [
        "# find the min and max\n",
        "torch.min(x), torch.max(x)"
      ],
      "metadata": {
        "colab": {
          "base_uri": "https://localhost:8080/"
        },
        "id": "vaJYgTff-Srd",
        "outputId": "9cf076f1-cd42-4787-b0bb-fa38612f0086"
      },
      "execution_count": 87,
      "outputs": [
        {
          "output_type": "execute_result",
          "data": {
            "text/plain": [
              "(tensor(0), tensor(90))"
            ]
          },
          "metadata": {},
          "execution_count": 87
        }
      ]
    },
    {
      "cell_type": "code",
      "source": [
        "# find the mean \n",
        "torch.mean(x.type(torch.float32))"
      ],
      "metadata": {
        "colab": {
          "base_uri": "https://localhost:8080/"
        },
        "id": "0MW5ZpGF-dXb",
        "outputId": "15de65e7-32eb-48d6-9ecb-5f0eb82dc965"
      },
      "execution_count": 84,
      "outputs": [
        {
          "output_type": "execute_result",
          "data": {
            "text/plain": [
              "tensor(45.)"
            ]
          },
          "metadata": {},
          "execution_count": 84
        }
      ]
    },
    {
      "cell_type": "code",
      "source": [
        "torch.mean(x.type(torch.float32)), x.type(torch.float32).mean()"
      ],
      "metadata": {
        "colab": {
          "base_uri": "https://localhost:8080/"
        },
        "id": "FA1dNZXI--JX",
        "outputId": "628df6c0-4b15-41f2-8e5d-677a72571925"
      },
      "execution_count": 86,
      "outputs": [
        {
          "output_type": "execute_result",
          "data": {
            "text/plain": [
              "(tensor(45.), tensor(45.))"
            ]
          },
          "metadata": {},
          "execution_count": 86
        }
      ]
    },
    {
      "cell_type": "code",
      "source": [
        "# find the sum of x \n",
        "torch.sum(x), x.sum()"
      ],
      "metadata": {
        "colab": {
          "base_uri": "https://localhost:8080/"
        },
        "id": "I9PbD0Kz_Mwn",
        "outputId": "d3bbdddd-cee9-4699-a1a3-612166fd3494"
      },
      "execution_count": 90,
      "outputs": [
        {
          "output_type": "execute_result",
          "data": {
            "text/plain": [
              "(tensor(450), tensor(450))"
            ]
          },
          "metadata": {},
          "execution_count": 90
        }
      ]
    },
    {
      "cell_type": "markdown",
      "source": [
        "### Finding the positional min and max"
      ],
      "metadata": {
        "id": "PyuiKeXD_3DX"
      }
    },
    {
      "cell_type": "code",
      "source": [
        "# find the min value at X index using agr\n",
        "x.argmin()"
      ],
      "metadata": {
        "colab": {
          "base_uri": "https://localhost:8080/"
        },
        "id": "_LsSpn5AABu_",
        "outputId": "0929b2eb-342c-451f-e5b6-3ee55aa2dd86"
      },
      "execution_count": 91,
      "outputs": [
        {
          "output_type": "execute_result",
          "data": {
            "text/plain": [
              "tensor(0)"
            ]
          },
          "metadata": {},
          "execution_count": 91
        }
      ]
    },
    {
      "cell_type": "code",
      "source": [
        " x[0]"
      ],
      "metadata": {
        "colab": {
          "base_uri": "https://localhost:8080/"
        },
        "id": "WlEmM3ZTAJlZ",
        "outputId": "24daf9bb-3304-408c-80ac-daf5f523747a"
      },
      "execution_count": 98,
      "outputs": [
        {
          "output_type": "execute_result",
          "data": {
            "text/plain": [
              "tensor(0)"
            ]
          },
          "metadata": {},
          "execution_count": 98
        }
      ]
    },
    {
      "cell_type": "code",
      "source": [
        "# find the position in tensor that that has the maximum value with argmax()\n",
        "x.argmax()"
      ],
      "metadata": {
        "colab": {
          "base_uri": "https://localhost:8080/"
        },
        "id": "yzfHO4gCApjU",
        "outputId": "abaa064c-d103-4907-eccf-a98a3e8c39b2"
      },
      "execution_count": 99,
      "outputs": [
        {
          "output_type": "execute_result",
          "data": {
            "text/plain": [
              "tensor(9)"
            ]
          },
          "metadata": {},
          "execution_count": 99
        }
      ]
    },
    {
      "cell_type": "code",
      "source": [
        "x[9]"
      ],
      "metadata": {
        "colab": {
          "base_uri": "https://localhost:8080/"
        },
        "id": "0OlPm0f5Ewbn",
        "outputId": "c11c957c-5e6f-4a75-8f20-a7fd15acba3f"
      },
      "execution_count": 100,
      "outputs": [
        {
          "output_type": "execute_result",
          "data": {
            "text/plain": [
              "tensor(90)"
            ]
          },
          "metadata": {},
          "execution_count": 100
        }
      ]
    },
    {
      "cell_type": "code",
      "source": [
        "x "
      ],
      "metadata": {
        "colab": {
          "base_uri": "https://localhost:8080/"
        },
        "id": "d1bUTTk5Eyi8",
        "outputId": "0f8cdf6d-1fd3-47c9-f082-9312a6663564"
      },
      "execution_count": 101,
      "outputs": [
        {
          "output_type": "execute_result",
          "data": {
            "text/plain": [
              "tensor([ 0, 10, 20, 30, 40, 50, 60, 70, 80, 90])"
            ]
          },
          "metadata": {},
          "execution_count": 101
        }
      ]
    },
    {
      "cell_type": "markdown",
      "source": [
        "## Reshaping, stacking, squeezing and unsquzeeing tensors\n",
        "\n",
        "* Reshaping - reshapes an input tensor to a defined shape\n",
        "* View - Return a view of an input tensor of certian shape but keep the same memory as the original tensor \n",
        "* Squeeze - remove all `1` dimensions from a tensor \n",
        "* Unsqueeze - add a `1` dimensions to a target tensor \n",
        "* Permute -Return a view of the input with dimensions permited (sqapped) in a certain way."
      ],
      "metadata": {
        "id": "EM1E-8DMF4qH"
      }
    },
    {
      "cell_type": "code",
      "source": [
        "#  let is create a tensor \n",
        "import torch\n",
        "x = torch.arange(1., 10)\n",
        "x, x.shape"
      ],
      "metadata": {
        "colab": {
          "base_uri": "https://localhost:8080/"
        },
        "id": "y2mKV9ZzHCuU",
        "outputId": "457dc4c2-3f0b-48a8-f5ee-e01f75c0f226"
      },
      "execution_count": 104,
      "outputs": [
        {
          "output_type": "execute_result",
          "data": {
            "text/plain": [
              "(tensor([1., 2., 3., 4., 5., 6., 7., 8., 9.]), torch.Size([9]))"
            ]
          },
          "metadata": {},
          "execution_count": 104
        }
      ]
    },
    {
      "cell_type": "code",
      "source": [
        "# Add an extra dimension\n",
        "x_reshaped =  x.reshape(1, 9)\n",
        "x_reshaped, x_reshaped.shape"
      ],
      "metadata": {
        "colab": {
          "base_uri": "https://localhost:8080/"
        },
        "id": "Se_Xdi5VG1Is",
        "outputId": "26bdad37-8892-4309-c310-34974e11ee4c"
      },
      "execution_count": 107,
      "outputs": [
        {
          "output_type": "execute_result",
          "data": {
            "text/plain": [
              "(tensor([[1., 2., 3., 4., 5., 6., 7., 8., 9.]]), torch.Size([1, 9]))"
            ]
          },
          "metadata": {},
          "execution_count": 107
        }
      ]
    },
    {
      "cell_type": "code",
      "source": [
        "# Add an extra dimension\n",
        "x_reshaped =  x.reshape(9, 1)\n",
        "x_reshaped, x_reshaped.shape"
      ],
      "metadata": {
        "colab": {
          "base_uri": "https://localhost:8080/"
        },
        "id": "dUUFeIBCHgMd",
        "outputId": "1de01be7-7aee-4ed2-9983-ff7a4ae76546"
      },
      "execution_count": 110,
      "outputs": [
        {
          "output_type": "execute_result",
          "data": {
            "text/plain": [
              "(tensor([[1.],\n",
              "         [2.],\n",
              "         [3.],\n",
              "         [4.],\n",
              "         [5.],\n",
              "         [6.],\n",
              "         [7.],\n",
              "         [8.],\n",
              "         [9.]]),\n",
              " torch.Size([9, 1]))"
            ]
          },
          "metadata": {},
          "execution_count": 110
        }
      ]
    },
    {
      "cell_type": "code",
      "source": [
        "#  let is create a tensor \n",
        "import torch\n",
        "x = torch.arange(1., 11)\n",
        "x, x.shape"
      ],
      "metadata": {
        "colab": {
          "base_uri": "https://localhost:8080/"
        },
        "id": "FJyeQvYyHumv",
        "outputId": "9d1d120b-d7be-429a-c325-33383229d424"
      },
      "execution_count": 113,
      "outputs": [
        {
          "output_type": "execute_result",
          "data": {
            "text/plain": [
              "(tensor([ 1.,  2.,  3.,  4.,  5.,  6.,  7.,  8.,  9., 10.]), torch.Size([10]))"
            ]
          },
          "metadata": {},
          "execution_count": 113
        }
      ]
    },
    {
      "cell_type": "code",
      "source": [
        "# Add an extra dimension\n",
        "x_reshaped =  x.reshape(1, 10)\n",
        "x_reshaped, x_reshaped.shape"
      ],
      "metadata": {
        "colab": {
          "base_uri": "https://localhost:8080/"
        },
        "id": "x0Tr0mmUH1To",
        "outputId": "853a8a66-844f-4022-c0e1-594d185cf56c"
      },
      "execution_count": 118,
      "outputs": [
        {
          "output_type": "execute_result",
          "data": {
            "text/plain": [
              "(tensor([[ 1.,  2.,  3.,  4.,  5.,  6.,  7.,  8.,  9., 10.]]),\n",
              " torch.Size([1, 10]))"
            ]
          },
          "metadata": {},
          "execution_count": 118
        }
      ]
    },
    {
      "cell_type": "code",
      "source": [
        "# Change the view  = shares the memory as the orginal tensor\n",
        "z = x.view(1, 10)\n",
        "x"
      ],
      "metadata": {
        "colab": {
          "base_uri": "https://localhost:8080/"
        },
        "id": "tymUJW_4HoWy",
        "outputId": "f6738f89-5b0e-403d-c924-6f94e5c92cbb"
      },
      "execution_count": 122,
      "outputs": [
        {
          "output_type": "execute_result",
          "data": {
            "text/plain": [
              "tensor([ 1.,  2.,  3.,  4.,  5.,  6.,  7.,  8.,  9., 10.])"
            ]
          },
          "metadata": {},
          "execution_count": 122
        }
      ]
    },
    {
      "cell_type": "code",
      "source": [
        "# Changing z changes x (because a view of tensor shares the same memory as the original )\n",
        "\n",
        "z [:, 0] = 5\n",
        "z, x"
      ],
      "metadata": {
        "colab": {
          "base_uri": "https://localhost:8080/"
        },
        "id": "ejaPizx_HoLR",
        "outputId": "5320e7ec-eebf-4bb4-c9b4-d7283afa9186"
      },
      "execution_count": 125,
      "outputs": [
        {
          "output_type": "execute_result",
          "data": {
            "text/plain": [
              "(tensor([[ 5.,  2.,  3.,  4.,  5.,  6.,  7.,  8.,  9., 10.]]),\n",
              " tensor([ 5.,  2.,  3.,  4.,  5.,  6.,  7.,  8.,  9., 10.]))"
            ]
          },
          "metadata": {},
          "execution_count": 125
        }
      ]
    },
    {
      "cell_type": "code",
      "source": [
        "# stacl tensor on top of each other \n",
        "x_stacked = torch.stack([x, x, x, x])\n",
        "x_stacked"
      ],
      "metadata": {
        "colab": {
          "base_uri": "https://localhost:8080/"
        },
        "id": "8Ofh_lHXMODR",
        "outputId": "5ae28a7c-79d6-47a8-c33d-2c17b73b8599"
      },
      "execution_count": 127,
      "outputs": [
        {
          "output_type": "execute_result",
          "data": {
            "text/plain": [
              "tensor([[ 5.,  2.,  3.,  4.,  5.,  6.,  7.,  8.,  9., 10.],\n",
              "        [ 5.,  2.,  3.,  4.,  5.,  6.,  7.,  8.,  9., 10.],\n",
              "        [ 5.,  2.,  3.,  4.,  5.,  6.,  7.,  8.,  9., 10.],\n",
              "        [ 5.,  2.,  3.,  4.,  5.,  6.,  7.,  8.,  9., 10.]])"
            ]
          },
          "metadata": {},
          "execution_count": 127
        }
      ]
    },
    {
      "cell_type": "code",
      "source": [
        "# stacl tensor on top of each other \n",
        "x_stacked = torch.stack([x, x, x, x], dim = 1)\n",
        "x_stacked"
      ],
      "metadata": {
        "colab": {
          "base_uri": "https://localhost:8080/"
        },
        "id": "Ko3hAdGxMn1V",
        "outputId": "71f4a868-40a2-44c3-e8b5-34eba6afc0c5"
      },
      "execution_count": 134,
      "outputs": [
        {
          "output_type": "execute_result",
          "data": {
            "text/plain": [
              "tensor([[ 5.,  5.,  5.,  5.],\n",
              "        [ 2.,  2.,  2.,  2.],\n",
              "        [ 3.,  3.,  3.,  3.],\n",
              "        [ 4.,  4.,  4.,  4.],\n",
              "        [ 5.,  5.,  5.,  5.],\n",
              "        [ 6.,  6.,  6.,  6.],\n",
              "        [ 7.,  7.,  7.,  7.],\n",
              "        [ 8.,  8.,  8.,  8.],\n",
              "        [ 9.,  9.,  9.,  9.],\n",
              "        [10., 10., 10., 10.]])"
            ]
          },
          "metadata": {},
          "execution_count": 134
        }
      ]
    },
    {
      "cell_type": "code",
      "source": [
        "# squeeze the tensor  - remove single dimensions with a targated tensor\n",
        "x_squeezed = x_reshaped.squeeze()\n",
        "\n",
        "print (f'Previous tensor: {x_reshaped}')\n",
        "print(f'Previous shape: {x_reshaped.shape}')\n",
        "print(f'New shape: {x_squeezed.shape}')"
      ],
      "metadata": {
        "colab": {
          "base_uri": "https://localhost:8080/"
        },
        "id": "sl_WBXc6NLYX",
        "outputId": "6acbe7be-88d6-4f0f-9ef1-56955a253c06"
      },
      "execution_count": 140,
      "outputs": [
        {
          "output_type": "stream",
          "name": "stdout",
          "text": [
            "Previous tensor: tensor([[ 5.,  2.,  3.,  4.,  5.,  6.,  7.,  8.,  9., 10.]])\n",
            "Previous shape: torch.Size([1, 10])\n",
            "New shape: torch.Size([10])\n"
          ]
        }
      ]
    },
    {
      "cell_type": "code",
      "source": [
        "x_reshaped.shape"
      ],
      "metadata": {
        "colab": {
          "base_uri": "https://localhost:8080/"
        },
        "id": "D2BC9-HtNuqV",
        "outputId": "474d3a31-0a0b-4b24-c354-d7989e34f8ee"
      },
      "execution_count": 136,
      "outputs": [
        {
          "output_type": "execute_result",
          "data": {
            "text/plain": [
              "torch.Size([1, 10])"
            ]
          },
          "metadata": {},
          "execution_count": 136
        }
      ]
    },
    {
      "cell_type": "code",
      "source": [
        "x_reshaped.squeeze()"
      ],
      "metadata": {
        "colab": {
          "base_uri": "https://localhost:8080/"
        },
        "id": "oqDQ9gK2NyvH",
        "outputId": "c4c0b4f6-b4be-4abb-e2bd-4f250b2c2e17"
      },
      "execution_count": 137,
      "outputs": [
        {
          "output_type": "execute_result",
          "data": {
            "text/plain": [
              "tensor([ 5.,  2.,  3.,  4.,  5.,  6.,  7.,  8.,  9., 10.])"
            ]
          },
          "metadata": {},
          "execution_count": 137
        }
      ]
    },
    {
      "cell_type": "code",
      "source": [
        "x_reshaped.squeeze()"
      ],
      "metadata": {
        "colab": {
          "base_uri": "https://localhost:8080/"
        },
        "id": "YIIKRkcxObzE",
        "outputId": "5c8faa80-6e12-4ed2-cc05-b9fd3301e61b"
      },
      "execution_count": 138,
      "outputs": [
        {
          "output_type": "execute_result",
          "data": {
            "text/plain": [
              "tensor([ 5.,  2.,  3.,  4.,  5.,  6.,  7.,  8.,  9., 10.])"
            ]
          },
          "metadata": {},
          "execution_count": 138
        }
      ]
    },
    {
      "cell_type": "code",
      "source": [
        "import torch\n",
        "\n",
        "# torch permute  - rearranges the dimension of a target tensor in a specified order \n",
        "x_original =  torch.rand(size = (224, 224, 3)) # height, width, color_channels \n",
        "\n",
        "# permute the original tensor to rearrange the axis (or dim) order\n",
        "x_permuted =  x_original.permute(2, 0, 1) # shift axis 0 ->1, 1 -> 2,  2->0\n",
        "\n",
        "print(f'Previous shape: {x_original.shape}') \n",
        "print(f'New shape: {x_original.shape}') # [color_channels, hight, width]\n",
        "\n"
      ],
      "metadata": {
        "colab": {
          "base_uri": "https://localhost:8080/"
        },
        "id": "0P5mFsk6QIWy",
        "outputId": "6fc22602-051d-4063-b5e7-75f05a57fe43"
      },
      "execution_count": 3,
      "outputs": [
        {
          "output_type": "stream",
          "name": "stdout",
          "text": [
            "Previous shape: torch.Size([224, 224, 3])\n",
            "New shape: torch.Size([224, 224, 3])\n"
          ]
        }
      ]
    },
    {
      "cell_type": "code",
      "source": [
        "x_original[0, :, 0]"
      ],
      "metadata": {
        "colab": {
          "base_uri": "https://localhost:8080/"
        },
        "id": "VUsP_tWESADS",
        "outputId": "aa7d25a6-9777-4f4b-8576-b2dae14fb292"
      },
      "execution_count": 4,
      "outputs": [
        {
          "output_type": "execute_result",
          "data": {
            "text/plain": [
              "tensor([0.1491, 0.2305, 0.1547, 0.8970, 0.6528, 0.8442, 0.5601, 0.1407, 0.5675,\n",
              "        0.1256, 0.9533, 0.5821, 0.5981, 0.6548, 0.0789, 0.7665, 0.0483, 0.7061,\n",
              "        0.8038, 0.3952, 0.0211, 0.0083, 0.1511, 0.5933, 0.7741, 0.0954, 0.7921,\n",
              "        0.3593, 0.0525, 0.5995, 0.4947, 0.0022, 0.9778, 0.6941, 0.6021, 0.1150,\n",
              "        0.9962, 0.3511, 0.7572, 0.0415, 0.2774, 0.0646, 0.3342, 0.3939, 0.7868,\n",
              "        0.6456, 0.4103, 0.3539, 0.6118, 0.2982, 0.2640, 0.0155, 0.8843, 0.8045,\n",
              "        0.2207, 0.8468, 0.1958, 0.7753, 0.5665, 0.2824, 0.0832, 0.8722, 0.1959,\n",
              "        0.8098, 0.3960, 0.4996, 0.7141, 0.3594, 0.5566, 0.0190, 0.5561, 0.3065,\n",
              "        0.7674, 0.2210, 0.2828, 0.6665, 0.0907, 0.0304, 0.6952, 0.8245, 0.6465,\n",
              "        0.9635, 0.8216, 0.2618, 0.1597, 0.8416, 0.7841, 0.7650, 0.4469, 0.3802,\n",
              "        0.6984, 0.6190, 0.7261, 0.3875, 0.6489, 0.7072, 0.9709, 0.1182, 0.4777,\n",
              "        0.4085, 0.6792, 0.2292, 0.3296, 0.7547, 0.5421, 0.8480, 0.5784, 0.9381,\n",
              "        0.5818, 0.4682, 0.3452, 0.3855, 0.5694, 0.3601, 0.7859, 0.3809, 0.5265,\n",
              "        0.9189, 0.7902, 0.2042, 0.5269, 0.5966, 0.0444, 0.6168, 0.6615, 0.9600,\n",
              "        0.4133, 0.3730, 0.3347, 0.1912, 0.7101, 0.1598, 0.1311, 0.3735, 0.8418,\n",
              "        0.8354, 0.9543, 0.0040, 0.9218, 0.1395, 0.6059, 0.4397, 0.7764, 0.1346,\n",
              "        0.5969, 0.8181, 0.4205, 0.8840, 0.0285, 0.0979, 0.4959, 0.8614, 0.8862,\n",
              "        0.0680, 0.7585, 0.6250, 0.2879, 0.6640, 0.5528, 0.7094, 0.0748, 0.5663,\n",
              "        0.3653, 0.0135, 0.7812, 0.2543, 0.4544, 0.6035, 0.5326, 0.4597, 0.6202,\n",
              "        0.6107, 0.5173, 0.2896, 0.1165, 0.9036, 0.2789, 0.9024, 0.5151, 0.7452,\n",
              "        0.9489, 0.9092, 0.4489, 0.4287, 0.8954, 0.2114, 0.8262, 0.1105, 0.6559,\n",
              "        0.9724, 0.2582, 0.1141, 0.2745, 0.5475, 0.5629, 0.7682, 0.4263, 0.1947,\n",
              "        0.5846, 0.7393, 0.0108, 0.2021, 0.5599, 0.6244, 0.5465, 0.6638, 0.6943,\n",
              "        0.8129, 0.3739, 0.9452, 0.6763, 0.9622, 0.8795, 0.2477, 0.9520, 0.1143,\n",
              "        0.9381, 0.8703, 0.2683, 0.2437, 0.6931, 0.8218, 0.9805, 0.9507])"
            ]
          },
          "metadata": {},
          "execution_count": 4
        }
      ]
    },
    {
      "cell_type": "code",
      "source": [
        "x_original[0, 0, 0]"
      ],
      "metadata": {
        "colab": {
          "base_uri": "https://localhost:8080/"
        },
        "id": "NIwcjsejSLeM",
        "outputId": "1c117f44-5de8-4dcd-c9a5-35f7a4a559db"
      },
      "execution_count": 5,
      "outputs": [
        {
          "output_type": "execute_result",
          "data": {
            "text/plain": [
              "tensor(0.1491)"
            ]
          },
          "metadata": {},
          "execution_count": 5
        }
      ]
    },
    {
      "cell_type": "code",
      "source": [
        "x_original[0, 0, 0] = 7282187\n",
        "x_original[0, 0, 0]"
      ],
      "metadata": {
        "colab": {
          "base_uri": "https://localhost:8080/"
        },
        "id": "9xM0KQgqSSU9",
        "outputId": "81fb978c-460e-4b2b-a7e9-c8f1fc81f100"
      },
      "execution_count": 8,
      "outputs": [
        {
          "output_type": "execute_result",
          "data": {
            "text/plain": [
              "tensor(7282187.)"
            ]
          },
          "metadata": {},
          "execution_count": 8
        }
      ]
    },
    {
      "cell_type": "code",
      "source": [
        "x_original[0, 0, 0] = 7282187\n",
        "x_original[0, 0, 0], x_permuted[0, 0, 0 ]"
      ],
      "metadata": {
        "colab": {
          "base_uri": "https://localhost:8080/"
        },
        "id": "Q4DnTEEXTLw8",
        "outputId": "a961f48e-822f-4946-c906-aa143b1afd76"
      },
      "execution_count": 9,
      "outputs": [
        {
          "output_type": "execute_result",
          "data": {
            "text/plain": [
              "(tensor(7282187.), tensor(7282187.))"
            ]
          },
          "metadata": {},
          "execution_count": 9
        }
      ]
    },
    {
      "cell_type": "markdown",
      "source": [
        "## Indexing (select data from tensor)\n",
        "\n",
        "indexing with Pytorch is similar to indexing with NumPy"
      ],
      "metadata": {
        "id": "Ut_FCa50TVcM"
      }
    },
    {
      "cell_type": "code",
      "source": [
        "# create a tensor \n",
        "import torch\n",
        "x = torch.arange(1, 10).reshape(1,3,3)\n",
        "x, x.shape"
      ],
      "metadata": {
        "colab": {
          "base_uri": "https://localhost:8080/"
        },
        "id": "nGBz3pk-TUop",
        "outputId": "b3f67971-9bf8-4ad4-f54f-db6d3b4280df"
      },
      "execution_count": 12,
      "outputs": [
        {
          "output_type": "execute_result",
          "data": {
            "text/plain": [
              "(tensor([[[1, 2, 3],\n",
              "          [4, 5, 6],\n",
              "          [7, 8, 9]]]),\n",
              " torch.Size([1, 3, 3]))"
            ]
          },
          "metadata": {},
          "execution_count": 12
        }
      ]
    },
    {
      "cell_type": "code",
      "source": [
        "# let's index on the most middle bracket (dim = 1)\n",
        "\n",
        "x[0][0]"
      ],
      "metadata": {
        "colab": {
          "base_uri": "https://localhost:8080/"
        },
        "id": "8TKm7Lymrz0L",
        "outputId": "4f0dab34-7679-49c3-fa30-ca4433b5ad28"
      },
      "execution_count": 15,
      "outputs": [
        {
          "output_type": "execute_result",
          "data": {
            "text/plain": [
              "tensor([1, 2, 3])"
            ]
          },
          "metadata": {},
          "execution_count": 15
        }
      ]
    },
    {
      "cell_type": "code",
      "source": [
        "# let's index on the most inner bracket (last dimension)\n",
        "\n",
        "x[0][0][0]"
      ],
      "metadata": {
        "colab": {
          "base_uri": "https://localhost:8080/"
        },
        "id": "fMskaqEnsISE",
        "outputId": "732e8171-6d89-42fa-d2e5-d3a907ed626e"
      },
      "execution_count": 14,
      "outputs": [
        {
          "output_type": "execute_result",
          "data": {
            "text/plain": [
              "tensor(1)"
            ]
          },
          "metadata": {},
          "execution_count": 14
        }
      ]
    },
    {
      "cell_type": "code",
      "source": [
        "x[1][1][1] # This is out of bound as our dimension is 1 where we can index only at 0 for the 1st array "
      ],
      "metadata": {
        "colab": {
          "base_uri": "https://localhost:8080/",
          "height": 172
        },
        "id": "unNlerfAssZ5",
        "outputId": "85a736a9-681c-46f7-a5af-c95b5e0322e0"
      },
      "execution_count": 16,
      "outputs": [
        {
          "output_type": "error",
          "ename": "IndexError",
          "evalue": "ignored",
          "traceback": [
            "\u001b[0;31m---------------------------------------------------------------------------\u001b[0m",
            "\u001b[0;31mIndexError\u001b[0m                                Traceback (most recent call last)",
            "\u001b[0;32m<ipython-input-16-e270b96106f3>\u001b[0m in \u001b[0;36m<cell line: 1>\u001b[0;34m()\u001b[0m\n\u001b[0;32m----> 1\u001b[0;31m \u001b[0mx\u001b[0m\u001b[0;34m[\u001b[0m\u001b[0;36m1\u001b[0m\u001b[0;34m]\u001b[0m\u001b[0;34m[\u001b[0m\u001b[0;36m1\u001b[0m\u001b[0;34m]\u001b[0m\u001b[0;34m[\u001b[0m\u001b[0;36m1\u001b[0m\u001b[0;34m]\u001b[0m\u001b[0;34m\u001b[0m\u001b[0;34m\u001b[0m\u001b[0m\n\u001b[0m",
            "\u001b[0;31mIndexError\u001b[0m: index 1 is out of bounds for dimension 0 with size 1"
          ]
        }
      ]
    },
    {
      "cell_type": "code",
      "source": [
        "x[0][2][2]"
      ],
      "metadata": {
        "colab": {
          "base_uri": "https://localhost:8080/"
        },
        "id": "qnJTKcxFs8uV",
        "outputId": "b39738a4-4f59-4f3a-daed-19928f802dee"
      },
      "execution_count": 20,
      "outputs": [
        {
          "output_type": "execute_result",
          "data": {
            "text/plain": [
              "tensor(9)"
            ]
          },
          "metadata": {},
          "execution_count": 20
        }
      ]
    },
    {
      "cell_type": "code",
      "source": [
        "# you can also use: \"to select \"all\" of a target dimension\"\n",
        "x[:,0]"
      ],
      "metadata": {
        "colab": {
          "base_uri": "https://localhost:8080/"
        },
        "id": "Zn038ydMtRLw",
        "outputId": "758a1601-214b-45ae-f36f-305f168ac83e"
      },
      "execution_count": 21,
      "outputs": [
        {
          "output_type": "execute_result",
          "data": {
            "text/plain": [
              "tensor([[1, 2, 3]])"
            ]
          },
          "metadata": {},
          "execution_count": 21
        }
      ]
    },
    {
      "cell_type": "code",
      "source": [
        "# Get all values of 0th and 1st dimension  but only index 1 of the 2nd dimension \n",
        "x[:,:,1]"
      ],
      "metadata": {
        "colab": {
          "base_uri": "https://localhost:8080/"
        },
        "id": "RT3XSqF0tctd",
        "outputId": "b9078cce-5b22-4730-bb44-02dc4fecc89f"
      },
      "execution_count": 22,
      "outputs": [
        {
          "output_type": "execute_result",
          "data": {
            "text/plain": [
              "tensor([[2, 5, 8]])"
            ]
          },
          "metadata": {},
          "execution_count": 22
        }
      ]
    },
    {
      "cell_type": "code",
      "source": [
        "#Get all values of the 0 dimension but only the 1st index value of 1st and 2end dimension\n",
        "x[:, 1, 1]"
      ],
      "metadata": {
        "colab": {
          "base_uri": "https://localhost:8080/"
        },
        "id": "boNVrA1-trUa",
        "outputId": "b837f887-b814-4498-ff45-38764a90d625"
      },
      "execution_count": 23,
      "outputs": [
        {
          "output_type": "execute_result",
          "data": {
            "text/plain": [
              "tensor([5])"
            ]
          },
          "metadata": {},
          "execution_count": 23
        }
      ]
    },
    {
      "cell_type": "code",
      "source": [
        "# Get index 0 of 0th and 1st dimension and all values of 2nd dimension\n",
        "\n",
        "x[0,0,:]"
      ],
      "metadata": {
        "colab": {
          "base_uri": "https://localhost:8080/"
        },
        "id": "u22EPNput31C",
        "outputId": "b35d1129-e74d-48e6-f75c-c4fdcbc383ad"
      },
      "execution_count": 24,
      "outputs": [
        {
          "output_type": "execute_result",
          "data": {
            "text/plain": [
              "tensor([1, 2, 3])"
            ]
          },
          "metadata": {},
          "execution_count": 24
        }
      ]
    },
    {
      "cell_type": "code",
      "source": [
        "x"
      ],
      "metadata": {
        "colab": {
          "base_uri": "https://localhost:8080/"
        },
        "id": "eWDYjvy-ur6u",
        "outputId": "176ec9d2-762d-473e-e52c-c9c9c310e02d"
      },
      "execution_count": 32,
      "outputs": [
        {
          "output_type": "execute_result",
          "data": {
            "text/plain": [
              "tensor([[[1, 2, 3],\n",
              "         [4, 5, 6],\n",
              "         [7, 8, 9]]])"
            ]
          },
          "metadata": {},
          "execution_count": 32
        }
      ]
    },
    {
      "cell_type": "code",
      "source": [
        "# Index on x to return 9\n",
        "\n",
        "x[0,2,2]"
      ],
      "metadata": {
        "colab": {
          "base_uri": "https://localhost:8080/"
        },
        "id": "76izKft5t3nX",
        "outputId": "ccc3eba8-b901-4b5c-b756-d03983e4f4b3"
      },
      "execution_count": 33,
      "outputs": [
        {
          "output_type": "execute_result",
          "data": {
            "text/plain": [
              "tensor(9)"
            ]
          },
          "metadata": {},
          "execution_count": 33
        }
      ]
    },
    {
      "cell_type": "code",
      "source": [
        "# index on x to return 3, 6, 9\n",
        "x[0,:,2]\n"
      ],
      "metadata": {
        "colab": {
          "base_uri": "https://localhost:8080/"
        },
        "id": "WnD3JUJauux5",
        "outputId": "d4baa5c3-3546-4c09-94b9-7c90c05c92e5"
      },
      "execution_count": 36,
      "outputs": [
        {
          "output_type": "execute_result",
          "data": {
            "text/plain": [
              "tensor([3, 6, 9])"
            ]
          },
          "metadata": {},
          "execution_count": 36
        }
      ]
    },
    {
      "cell_type": "markdown",
      "source": [
        "## PyTorch tensors and Numpy \n",
        "\n",
        "Numpy is a popular scientific python numerical computing library. \n",
        "And because of this, PyTorch has functionality ty to interact with it.\n",
        "\n",
        "* Data in Numpy, want in PyTorch tensor -> `torch.from_numpy(ndarray)`\n",
        "* PyTorch tensor -> Numpy -> `torch.Tensor.numpy()`"
      ],
      "metadata": {
        "id": "-wKaxLOivhjz"
      }
    },
    {
      "cell_type": "code",
      "source": [
        "# Numpy array to tensor \n",
        "import torch\n",
        "import numpy as np\n",
        "\n",
        "array  =  np.arange(1.0, 8.0)\n",
        "tensor = torch.from_numpy(array) # warning: When converting from numpy -> pytorch, pytorch reflect reference numpy's default datatype of float64 unless specified otherwise  \n",
        "array, tensor\n"
      ],
      "metadata": {
        "colab": {
          "base_uri": "https://localhost:8080/"
        },
        "id": "w0xumnVUvfFW",
        "outputId": "9db84394-c47c-4e4a-e09b-551444243240"
      },
      "execution_count": 44,
      "outputs": [
        {
          "output_type": "execute_result",
          "data": {
            "text/plain": [
              "(array([1., 2., 3., 4., 5., 6., 7.]),\n",
              " tensor([1., 2., 3., 4., 5., 6., 7.], dtype=torch.float64))"
            ]
          },
          "metadata": {},
          "execution_count": 44
        }
      ]
    },
    {
      "cell_type": "code",
      "source": [
        "array.dtype"
      ],
      "metadata": {
        "colab": {
          "base_uri": "https://localhost:8080/"
        },
        "id": "ibz0NnxtwxmY",
        "outputId": "f8a91f01-eb74-4bcd-dc90-2fb986fe455a"
      },
      "execution_count": 45,
      "outputs": [
        {
          "output_type": "execute_result",
          "data": {
            "text/plain": [
              "dtype('float64')"
            ]
          },
          "metadata": {},
          "execution_count": 45
        }
      ]
    },
    {
      "cell_type": "code",
      "source": [
        "torch.arange(1.0, 8.0)"
      ],
      "metadata": {
        "colab": {
          "base_uri": "https://localhost:8080/"
        },
        "id": "MGV92dW1w6CK",
        "outputId": "24097abc-2b95-45d5-c1a4-3e2ecccd4a5e"
      },
      "execution_count": 46,
      "outputs": [
        {
          "output_type": "execute_result",
          "data": {
            "text/plain": [
              "tensor([1., 2., 3., 4., 5., 6., 7.])"
            ]
          },
          "metadata": {},
          "execution_count": 46
        }
      ]
    },
    {
      "cell_type": "code",
      "source": [
        "torch.arange(1.0, 8.0).dtype"
      ],
      "metadata": {
        "colab": {
          "base_uri": "https://localhost:8080/"
        },
        "id": "gGGMsWFmwsBx",
        "outputId": "a5b0c90c-321f-439a-cda7-705f2aade718"
      },
      "execution_count": 47,
      "outputs": [
        {
          "output_type": "execute_result",
          "data": {
            "text/plain": [
              "torch.float32"
            ]
          },
          "metadata": {},
          "execution_count": 47
        }
      ]
    },
    {
      "cell_type": "markdown",
      "source": [
        "Chnage the value of array, what will this do to `tensor`?"
      ],
      "metadata": {
        "id": "RsXwOtnRw_4o"
      }
    },
    {
      "cell_type": "code",
      "source": [
        "# Here does not affect values of tensor while we change the value of array \n",
        "array  =  array + 1\n",
        "array, tensor\n"
      ],
      "metadata": {
        "colab": {
          "base_uri": "https://localhost:8080/"
        },
        "id": "u9nWHlYayBiq",
        "outputId": "dfd88f20-1b45-42b7-de23-d384504c3796"
      },
      "execution_count": 48,
      "outputs": [
        {
          "output_type": "execute_result",
          "data": {
            "text/plain": [
              "(array([2., 3., 4., 5., 6., 7., 8.]),\n",
              " tensor([1., 2., 3., 4., 5., 6., 7.], dtype=torch.float64))"
            ]
          },
          "metadata": {},
          "execution_count": 48
        }
      ]
    },
    {
      "cell_type": "code",
      "source": [
        "# Tensor to Numpy array\n",
        "\n",
        "tensor =  torch.ones(7)\n",
        "numpy_tensor = tensor.numpy()\n",
        "tensor, numpy_tensor"
      ],
      "metadata": {
        "colab": {
          "base_uri": "https://localhost:8080/"
        },
        "id": "PmDkvdQvyfkG",
        "outputId": "8f63fd28-2aa5-448e-fb02-feee69035ce1"
      },
      "execution_count": 49,
      "outputs": [
        {
          "output_type": "execute_result",
          "data": {
            "text/plain": [
              "(tensor([1., 1., 1., 1., 1., 1., 1.]),\n",
              " array([1., 1., 1., 1., 1., 1., 1.], dtype=float32))"
            ]
          },
          "metadata": {},
          "execution_count": 49
        }
      ]
    },
    {
      "cell_type": "code",
      "source": [
        "# change the tensor, what happens to `numpy_tensor`?\n",
        "tensor = tensor + 1\n",
        "tensor, numpy_tensor"
      ],
      "metadata": {
        "colab": {
          "base_uri": "https://localhost:8080/"
        },
        "id": "yqJpuFzzy0l2",
        "outputId": "e875b7e8-44cb-4c51-a70e-b55f9940e43e"
      },
      "execution_count": 52,
      "outputs": [
        {
          "output_type": "execute_result",
          "data": {
            "text/plain": [
              "(tensor([4., 4., 4., 4., 4., 4., 4.]),\n",
              " array([1., 1., 1., 1., 1., 1., 1.], dtype=float32))"
            ]
          },
          "metadata": {},
          "execution_count": 52
        }
      ]
    },
    {
      "cell_type": "markdown",
      "source": [
        "## Reproductibility (try to take random out of random) \n",
        "\n",
        "short how a neural network learns:\n",
        "\n",
        "1. art with random numbers -> tensor operations -> update random numbers to try and make them of the data -> again -> again -> again ....\n",
        "To reduce the randomness in neural networks and PyTorch comes the conecept of a **random seed.**\n",
        "Essentially what the random seed does is \"flavour\" the randomness"
      ],
      "metadata": {
        "id": "cwb2yRQnzSem"
      }
    },
    {
      "cell_type": "code",
      "source": [
        "torch.rand(3,3)"
      ],
      "metadata": {
        "colab": {
          "base_uri": "https://localhost:8080/"
        },
        "id": "V_PMbR8f0bpE",
        "outputId": "905e2178-815c-4abf-84da-f22b5fa5c1ba"
      },
      "execution_count": 53,
      "outputs": [
        {
          "output_type": "execute_result",
          "data": {
            "text/plain": [
              "tensor([[0.8617, 0.2659, 0.9411],\n",
              "        [0.4592, 0.6703, 0.5459],\n",
              "        [0.2904, 0.3714, 0.8476]])"
            ]
          },
          "metadata": {},
          "execution_count": 53
        }
      ]
    },
    {
      "cell_type": "code",
      "source": [
        "import torch \n",
        "\n",
        "#create two random tensors\n",
        "random_tensor_A = torch.rand(3,4)\n",
        "random_tensor_B = torch.rand(3,4)\n",
        "\n",
        "print(random_tensor_A)\n",
        "print(random_tensor_B)\n",
        "print(random_tensor_A == random_tensor_B)"
      ],
      "metadata": {
        "colab": {
          "base_uri": "https://localhost:8080/"
        },
        "id": "GbY-hAgC0nQM",
        "outputId": "8834a6f4-6738-401d-ea3d-c86e291e96b4"
      },
      "execution_count": 61,
      "outputs": [
        {
          "output_type": "stream",
          "name": "stdout",
          "text": [
            "tensor([[0.4663, 0.6318, 0.1708, 0.6987],\n",
            "        [0.9958, 0.3850, 0.3833, 0.5082],\n",
            "        [0.3759, 0.0877, 0.8879, 0.2526]])\n",
            "tensor([[0.8447, 0.6100, 0.3554, 0.4537],\n",
            "        [0.5320, 0.0684, 0.9470, 0.5114],\n",
            "        [0.7189, 0.7833, 0.5901, 0.2835]])\n",
            "tensor([[False, False, False, False],\n",
            "        [False, False, False, False],\n",
            "        [False, False, False, False]])\n"
          ]
        }
      ]
    },
    {
      "cell_type": "code",
      "source": [
        "# let make a random but reproduceble tensor \n",
        "import torch\n",
        "\n",
        "# set the random seed \n",
        "\n",
        "RANDOM_SEED  = 42\n",
        "torch.manual_seed(RANDOM_SEED)\n",
        "\n",
        "random_tensor_C = torch.rand(3, 4)\n",
        "random_tensor_D = torch.rand(3, 4)\n",
        "\n",
        "print(random_tensor_C)\n",
        "print(random_tensor_D)\n",
        "print(random_tensor_C == random_tensor_D)"
      ],
      "metadata": {
        "colab": {
          "base_uri": "https://localhost:8080/"
        },
        "id": "xfHz_GKM1RWQ",
        "outputId": "133c319c-105e-47a8-dce7-1bbdcdb11576"
      },
      "execution_count": 62,
      "outputs": [
        {
          "output_type": "stream",
          "name": "stdout",
          "text": [
            "tensor([[0.8823, 0.9150, 0.3829, 0.9593],\n",
            "        [0.3904, 0.6009, 0.2566, 0.7936],\n",
            "        [0.9408, 0.1332, 0.9346, 0.5936]])\n",
            "tensor([[0.8694, 0.5677, 0.7411, 0.4294],\n",
            "        [0.8854, 0.5739, 0.2666, 0.6274],\n",
            "        [0.2696, 0.4414, 0.2969, 0.8317]])\n",
            "tensor([[False, False, False, False],\n",
            "        [False, False, False, False],\n",
            "        [False, False, False, False]])\n"
          ]
        }
      ]
    },
    {
      "cell_type": "code",
      "source": [
        "# Seed each time with randomness \n",
        "\n",
        "RANDOM_SEED  = 42\n",
        "torch.manual_seed(RANDOM_SEED)\n",
        "\n",
        "random_tensor_C = torch.rand(3, 4)\n",
        "\n",
        "torch.manual_seed(RANDOM_SEED)\n",
        "random_tensor_D = torch.rand(3, 4)\n",
        "\n",
        "print(random_tensor_C)\n",
        "print(random_tensor_D)\n",
        "print(random_tensor_C == random_tensor_D)"
      ],
      "metadata": {
        "colab": {
          "base_uri": "https://localhost:8080/"
        },
        "id": "8emaSyMW2Puj",
        "outputId": "2f937d51-2f45-44ca-d7c3-134888837913"
      },
      "execution_count": 64,
      "outputs": [
        {
          "output_type": "stream",
          "name": "stdout",
          "text": [
            "tensor([[0.8823, 0.9150, 0.3829, 0.9593],\n",
            "        [0.3904, 0.6009, 0.2566, 0.7936],\n",
            "        [0.9408, 0.1332, 0.9346, 0.5936]])\n",
            "tensor([[0.8823, 0.9150, 0.3829, 0.9593],\n",
            "        [0.3904, 0.6009, 0.2566, 0.7936],\n",
            "        [0.9408, 0.1332, 0.9346, 0.5936]])\n",
            "tensor([[True, True, True, True],\n",
            "        [True, True, True, True],\n",
            "        [True, True, True, True]])\n"
          ]
        }
      ]
    },
    {
      "cell_type": "markdown",
      "source": [
        "Resources: \n",
        "* https://pytorch.org/docs/stable/notes/randomness.html\n",
        "* https://en.wikipedia.org/wiki/Random_seed"
      ],
      "metadata": {
        "id": "uqGR-2Rl4NAK"
      }
    },
    {
      "cell_type": "markdown",
      "source": [
        "## Running PyTorch objects on the GPUs and making faster computation\n",
        "GPUs = Faster compution on numbers, thanks \n",
        "to CUBA + NVIDIA hardware + PyTorch workinmg behind the scenes to make everything hunky doy (good)\n",
        "\n"
      ],
      "metadata": {
        "id": "xQ7LIjBYBAhr"
      }
    },
    {
      "cell_type": "markdown",
      "source": [
        "### 1. Getting a GPU\n",
        "1. Use Google colab pro for free GPU (option to upgrade as well)\n",
        "2. Use your own GPU - takes a little bit of setup and requires the investment of purshasing a GPU, there's lots of options ..., see this post for what option to get: https://timdettmers.com/2023/01/30/which-gpu-for-deep-learning/\n",
        "3. Use cloud computing Cloud computing (AWS, GCP, Azure) these services allow you to rent computers on the cloud and access them.\n",
        "\n",
        "For 2, 3 PyTorch + GPU drivers (CUB) takes a little bit of setting up, to do this, refer to PyTorch setup documentation."
      ],
      "metadata": {
        "id": "Vf3H_p2wMjI6"
      }
    },
    {
      "cell_type": "code",
      "source": [
        "!nvidia-smi"
      ],
      "metadata": {
        "colab": {
          "base_uri": "https://localhost:8080/"
        },
        "id": "b-xXmO2e2ss_",
        "outputId": "603cd0d9-8c77-4cd9-d6b1-0a36a1e82a58"
      },
      "execution_count": 1,
      "outputs": [
        {
          "output_type": "stream",
          "name": "stdout",
          "text": [
            "Wed May 31 09:47:55 2023       \n",
            "+-----------------------------------------------------------------------------+\n",
            "| NVIDIA-SMI 525.85.12    Driver Version: 525.85.12    CUDA Version: 12.0     |\n",
            "|-------------------------------+----------------------+----------------------+\n",
            "| GPU  Name        Persistence-M| Bus-Id        Disp.A | Volatile Uncorr. ECC |\n",
            "| Fan  Temp  Perf  Pwr:Usage/Cap|         Memory-Usage | GPU-Util  Compute M. |\n",
            "|                               |                      |               MIG M. |\n",
            "|===============================+======================+======================|\n",
            "|   0  Tesla T4            Off  | 00000000:00:04.0 Off |                    0 |\n",
            "| N/A   48C    P8     9W /  70W |      0MiB / 15360MiB |      0%      Default |\n",
            "|                               |                      |                  N/A |\n",
            "+-------------------------------+----------------------+----------------------+\n",
            "                                                                               \n",
            "+-----------------------------------------------------------------------------+\n",
            "| Processes:                                                                  |\n",
            "|  GPU   GI   CI        PID   Type   Process name                  GPU Memory |\n",
            "|        ID   ID                                                   Usage      |\n",
            "|=============================================================================|\n",
            "|  No running processes found                                                 |\n",
            "+-----------------------------------------------------------------------------+\n"
          ]
        }
      ]
    },
    {
      "cell_type": "markdown",
      "source": [
        "### 2. Check for GPU access with PyTorch\n"
      ],
      "metadata": {
        "id": "7uHjPJ0SCKhN"
      }
    },
    {
      "cell_type": "code",
      "source": [
        "# Check for GPU access pytorch \n",
        "import torch \n",
        "torch.cuda.is_available()\n"
      ],
      "metadata": {
        "colab": {
          "base_uri": "https://localhost:8080/"
        },
        "id": "FUxVGFWqNeR4",
        "outputId": "1c473c75-fe43-4942-e0be-780d1cd3f7d5"
      },
      "execution_count": 3,
      "outputs": [
        {
          "output_type": "execute_result",
          "data": {
            "text/plain": [
              "True"
            ]
          },
          "metadata": {},
          "execution_count": 3
        }
      ]
    },
    {
      "cell_type": "markdown",
      "source": [
        "If the above output `\"cuda\"` it means we can set all of our PyTorch code to use the available CUDA device (a GPU) and if it output `\"cpu\"`, our PyTorch code will stick with the CPU.\n",
        "\n",
        "https://pytorch.org/docs/master/notes/cuda.html#device-agnostic-code"
      ],
      "metadata": {
        "id": "774hCBA2OkFS"
      }
    },
    {
      "cell_type": "code",
      "source": [
        "# Set device type\n",
        "device = \"cuda\" if torch.cuda.is_available() else \"cpu\"\n",
        "device"
      ],
      "metadata": {
        "colab": {
          "base_uri": "https://localhost:8080/",
          "height": 36
        },
        "id": "x3i5zxRVNt-7",
        "outputId": "5f39dc4f-4a25-402e-ea5e-f0040db1c1f9"
      },
      "execution_count": 6,
      "outputs": [
        {
          "output_type": "execute_result",
          "data": {
            "text/plain": [
              "'cuda'"
            ],
            "application/vnd.google.colaboratory.intrinsic+json": {
              "type": "string"
            }
          },
          "metadata": {},
          "execution_count": 6
        }
      ]
    },
    {
      "cell_type": "code",
      "source": [
        "# Count number of devices\n",
        "torch.cuda.device_count()"
      ],
      "metadata": {
        "colab": {
          "base_uri": "https://localhost:8080/"
        },
        "id": "8JpKMoA7OA4x",
        "outputId": "e32670c1-a70f-40dc-d759-5e2d8f4fb82a"
      },
      "execution_count": 7,
      "outputs": [
        {
          "output_type": "execute_result",
          "data": {
            "text/plain": [
              "1"
            ]
          },
          "metadata": {},
          "execution_count": 7
        }
      ]
    },
    {
      "cell_type": "markdown",
      "source": [
        "### 3. Putting tensors (and models) on the GPU"
      ],
      "metadata": {
        "id": "0dLDLHT4OU6t"
      }
    },
    {
      "cell_type": "code",
      "source": [
        "# Create tensor (default on CPU)\n",
        "tensor = torch.tensor([1, 2, 3])\n",
        "\n",
        "# Tensor not on GPU\n",
        "print(tensor, tensor.device)\n"
      ],
      "metadata": {
        "colab": {
          "base_uri": "https://localhost:8080/"
        },
        "id": "xOoY_fw8OQoT",
        "outputId": "62d3917c-502c-4f09-932b-adae49d35563"
      },
      "execution_count": 8,
      "outputs": [
        {
          "output_type": "stream",
          "name": "stdout",
          "text": [
            "tensor([1, 2, 3]) cpu\n"
          ]
        }
      ]
    },
    {
      "cell_type": "code",
      "source": [
        "# Move tensor to GPU (if available)\n",
        "tensor_on_gpu = tensor.to(device)\n",
        "tensor_on_gpu"
      ],
      "metadata": {
        "colab": {
          "base_uri": "https://localhost:8080/"
        },
        "id": "O2Jf3UQUPEHL",
        "outputId": "c17b9895-47c4-40f8-b2b2-61ea74717266"
      },
      "execution_count": 9,
      "outputs": [
        {
          "output_type": "execute_result",
          "data": {
            "text/plain": [
              "tensor([1, 2, 3], device='cuda:0')"
            ]
          },
          "metadata": {},
          "execution_count": 9
        }
      ]
    },
    {
      "cell_type": "markdown",
      "source": [
        "Notice the second tensor has `device='cuda:0'`, this means it's stored on the 0th GPU available (GPUs are 0 indexed, if two GPUs were available, they'd be 'cuda:0' and `'cuda:1'` respectively, up to `'cuda:n'`)."
      ],
      "metadata": {
        "id": "T5HYyZTPO2kg"
      }
    },
    {
      "cell_type": "markdown",
      "source": [
        "#### 4. Moving tensors back to the CPU"
      ],
      "metadata": {
        "id": "YObseqYrQmvf"
      }
    },
    {
      "cell_type": "code",
      "source": [
        "#If tensor is on CPU, can't transform it to Numpy\n",
        "\n",
        "tensor_on_gpu.numpy()"
      ],
      "metadata": {
        "colab": {
          "base_uri": "https://localhost:8080/",
          "height": 209
        },
        "id": "ucMykMmdQr6t",
        "outputId": "0be231ab-c01e-41b4-bb58-c65d3bf1b539"
      },
      "execution_count": 12,
      "outputs": [
        {
          "output_type": "error",
          "ename": "NameError",
          "evalue": "ignored",
          "traceback": [
            "\u001b[0;31m---------------------------------------------------------------------------\u001b[0m",
            "\u001b[0;31mNameError\u001b[0m                                 Traceback (most recent call last)",
            "\u001b[0;32m<ipython-input-12-3914c98d8dde>\u001b[0m in \u001b[0;36m<cell line: 3>\u001b[0;34m()\u001b[0m\n\u001b[1;32m      1\u001b[0m \u001b[0;31m#If tensor is on CPU, can't transform it to Numpy\u001b[0m\u001b[0;34m\u001b[0m\u001b[0;34m\u001b[0m\u001b[0m\n\u001b[1;32m      2\u001b[0m \u001b[0;34m\u001b[0m\u001b[0m\n\u001b[0;32m----> 3\u001b[0;31m \u001b[0mtensor_on_gpu\u001b[0m\u001b[0;34m.\u001b[0m\u001b[0mnumpy\u001b[0m\u001b[0;34m(\u001b[0m\u001b[0;34m)\u001b[0m\u001b[0;34m\u001b[0m\u001b[0;34m\u001b[0m\u001b[0m\n\u001b[0m",
            "\u001b[0;31mNameError\u001b[0m: name 'tensor_on_gpu' is not defined"
          ]
        }
      ]
    },
    {
      "cell_type": "markdown",
      "source": [
        "Instead, to get a tensor back to CPU and usable with NumPy we can use `Tensor.cpu().`\n",
        "\n",
        "This copies the tensor to CPU memory so it's usable with CPUs."
      ],
      "metadata": {
        "id": "A4Oe00LIQ5zI"
      }
    },
    {
      "cell_type": "code",
      "source": [
        "tensor_on_cpu =  tensor_on_gpu.cpu().numpy()\n",
        "tensor_on_cpu"
      ],
      "metadata": {
        "colab": {
          "base_uri": "https://localhost:8080/"
        },
        "id": "zooAFLQmQ5Gy",
        "outputId": "6e67fef3-0d08-46dd-b51d-0e8788175278"
      },
      "execution_count": 12,
      "outputs": [
        {
          "output_type": "execute_result",
          "data": {
            "text/plain": [
              "array([1, 2, 3])"
            ]
          },
          "metadata": {},
          "execution_count": 12
        }
      ]
    },
    {
      "cell_type": "code",
      "source": [
        "tensor_on_gpu"
      ],
      "metadata": {
        "colab": {
          "base_uri": "https://localhost:8080/"
        },
        "id": "YQgjo_xkRkiY",
        "outputId": "9f6bf855-e28a-4cc1-e0c4-953bb2eecf7c"
      },
      "execution_count": 13,
      "outputs": [
        {
          "output_type": "execute_result",
          "data": {
            "text/plain": [
              "tensor([1, 2, 3], device='cuda:0')"
            ]
          },
          "metadata": {},
          "execution_count": 13
        }
      ]
    },
    {
      "cell_type": "markdown",
      "source": [
        "Sources: \n",
        "1. https://github.com/mrdbourke/pytorch-deep-learning/blob/main/00_pytorch_fundamentals.ipynb"
      ],
      "metadata": {
        "id": "Ql0Z86BpSIeA"
      }
    },
    {
      "cell_type": "markdown",
      "source": [
        "## Exercises \n"
      ],
      "metadata": {
        "id": "JVa0KOy2p88U"
      }
    },
    {
      "cell_type": "markdown",
      "source": [
        "## 1. Documentation reading\n",
        "A big part of deep learning (and learning to code in general) is getting familiar with the documentation of a certain framework you're using. We'll be using the PyTorch documentation a lot throughout the rest of this course. So I'd recommend spending 10-minutes reading the following (it's okay if you don't get some things for now, the focus is not yet full understanding, it's awareness):\n",
        "\n",
        "* The documentation on `torch.Tensor.`\n",
        "* The documentation on `torch.cuda.`"
      ],
      "metadata": {
        "id": "7-PeRbIUp_Lc"
      }
    },
    {
      "cell_type": "markdown",
      "source": [
        "## 2. Create a random tensor with shape (7, 7)."
      ],
      "metadata": {
        "id": "E9bmoISNqrc-"
      }
    },
    {
      "cell_type": "code",
      "source": [
        "# Import torch\n",
        "import torch \n",
        "\n",
        "# Create random tensor\n",
        "X = torch.rand(size=(7, 7))\n",
        "X, X.shape"
      ],
      "metadata": {
        "colab": {
          "base_uri": "https://localhost:8080/"
        },
        "id": "X9AXp3bddprZ",
        "outputId": "d2ab2d43-91d7-4262-f561-fbeb6e311f5b"
      },
      "execution_count": 1,
      "outputs": [
        {
          "output_type": "execute_result",
          "data": {
            "text/plain": [
              "(tensor([[0.1976, 0.0994, 0.0897, 0.9688, 0.6487, 0.7881, 0.0415],\n",
              "         [0.3271, 0.3003, 0.9438, 0.0961, 0.3227, 0.8821, 0.1478],\n",
              "         [0.6507, 0.8873, 0.0118, 0.9050, 0.2887, 0.9936, 0.7059],\n",
              "         [0.5886, 0.0127, 0.3478, 0.0976, 0.3261, 0.7931, 0.0769],\n",
              "         [0.5320, 0.6422, 0.6715, 0.5311, 0.6046, 0.1984, 0.5567],\n",
              "         [0.6258, 0.3873, 0.1393, 0.1125, 0.8260, 0.2126, 0.6448],\n",
              "         [0.1283, 0.3716, 0.2903, 0.1535, 0.1373, 0.1478, 0.1687]]),\n",
              " torch.Size([7, 7]))"
            ]
          },
          "metadata": {},
          "execution_count": 1
        }
      ]
    },
    {
      "cell_type": "markdown",
      "source": [
        "## 3. Perform a matrix multiplication on the tensor from 2 with another random tensor with `shape (1, 7)` (hint: you may have to transpose the second tensor)."
      ],
      "metadata": {
        "id": "iIGBC5wsq4Nd"
      }
    },
    {
      "cell_type": "code",
      "source": [
        "\n",
        "# Create another random tensor\n",
        "Y = torch.rand(size=(1, 7))\n",
        "# Z = torch.matmul(X, Y) # will error because of shape issues\n",
        "Z = torch.matmul(X, Y.T) # no error because of transpose\n",
        "Z, Z.shape"
      ],
      "metadata": {
        "colab": {
          "base_uri": "https://localhost:8080/"
        },
        "id": "veOKEFdkq2uN",
        "outputId": "88729bc6-5b08-4ab8-eb16-bba2971d47e7"
      },
      "execution_count": 2,
      "outputs": [
        {
          "output_type": "execute_result",
          "data": {
            "text/plain": [
              "(tensor([[1.0216],\n",
              "         [1.0937],\n",
              "         [1.4867],\n",
              "         [0.8786],\n",
              "         [0.7226],\n",
              "         [0.6817],\n",
              "         [0.3494]]),\n",
              " torch.Size([7, 1]))"
            ]
          },
          "metadata": {},
          "execution_count": 2
        }
      ]
    },
    {
      "cell_type": "markdown",
      "source": [
        "## 4. Set the random seed to `0 and do 2 & 3 over again.`"
      ],
      "metadata": {
        "id": "FEgEUPPhrFHY"
      }
    },
    {
      "cell_type": "markdown",
      "source": [
        "The output should be:\n",
        "\n"
      ],
      "metadata": {
        "id": "DPCO12tjrM7b"
      }
    },
    {
      "cell_type": "code",
      "source": [
        "\n",
        "# Set manual seed\n",
        "torch.manual_seed(0)\n",
        "\n",
        "# Create two random tensors\n",
        "X = torch.rand(size=(7, 7))\n",
        "Y = torch.rand(size=(1, 7))\n",
        "\n",
        "# Matrix multiply tensors\n",
        "Z = torch.matmul(X, Y.T)\n",
        "Z, Z.shape"
      ],
      "metadata": {
        "colab": {
          "base_uri": "https://localhost:8080/"
        },
        "id": "3G8HqvvYrJLt",
        "outputId": "631fdcb1-8657-4639-f0be-8e5ad67842b7"
      },
      "execution_count": 4,
      "outputs": [
        {
          "output_type": "execute_result",
          "data": {
            "text/plain": [
              "(tensor([[1.8542],\n",
              "         [1.9611],\n",
              "         [2.2884],\n",
              "         [3.0481],\n",
              "         [1.7067],\n",
              "         [2.5290],\n",
              "         [1.7989]]),\n",
              " torch.Size([7, 1]))"
            ]
          },
          "metadata": {},
          "execution_count": 4
        }
      ]
    },
    {
      "cell_type": "markdown",
      "source": [
        "## 5. Speaking of random seeds, we saw how to set it with `torch.manual_seed()` but is there a GPU equivalent? (hint: you'll need to look into the documentation for ` torch.cuda `for this one)\n",
        "\n",
        "* If there is, set the GPU random seed to 1234."
      ],
      "metadata": {
        "id": "_PfN8gxbrmd4"
      }
    },
    {
      "cell_type": "code",
      "source": [
        "# Set random seed on the GPU\n",
        "torch.cuda.manual_seed(1234)"
      ],
      "metadata": {
        "id": "J7WtLQjTr2qB"
      },
      "execution_count": 6,
      "outputs": []
    },
    {
      "cell_type": "markdown",
      "source": [
        "6. Create two random tensors of shape (2, 3) and send them both to the GPU (you'll need access to a GPU for this). Set torch.manual_seed(1234) when creating the tensors (this doesn't have to be the GPU random seed). The output should be something like:"
      ],
      "metadata": {
        "id": "7DYc8poHteJv"
      }
    },
    {
      "cell_type": "code",
      "source": [
        "# Set random seed\n",
        "torch.manual_seed(1234)\n",
        "\n",
        "# Check for access to GPU\n",
        "device = \"cuda\" if torch.cuda.is_available() else \"cpu\"\n",
        "print(f\"Device: {device}\")\n",
        "\n",
        "# Create two random tensors on GPU\n",
        "tensor_A = torch.rand(size=(2,3)).to(device)\n",
        "tensor_B = torch.rand(size=(2,3)).to(device)\n",
        "tensor_A, tensor_B"
      ],
      "metadata": {
        "colab": {
          "base_uri": "https://localhost:8080/"
        },
        "id": "GH3ESY2htkPU",
        "outputId": "b30f3c82-0fe6-4839-886c-f8f456b83a35"
      },
      "execution_count": 7,
      "outputs": [
        {
          "output_type": "stream",
          "name": "stdout",
          "text": [
            "Device: cuda\n"
          ]
        },
        {
          "output_type": "execute_result",
          "data": {
            "text/plain": [
              "(tensor([[0.0290, 0.4019, 0.2598],\n",
              "         [0.3666, 0.0583, 0.7006]], device='cuda:0'),\n",
              " tensor([[0.0518, 0.4681, 0.6738],\n",
              "         [0.3315, 0.7837, 0.5631]], device='cuda:0'))"
            ]
          },
          "metadata": {},
          "execution_count": 7
        }
      ]
    },
    {
      "cell_type": "markdown",
      "source": [
        "## 7. Perform a matrix multiplication on the tensors you created in 6 (again, you may have to adjust the shapes of one of the tensors).\n",
        "* The output should look like:"
      ],
      "metadata": {
        "id": "YHhw0wxPtoWx"
      }
    },
    {
      "cell_type": "code",
      "source": [
        "\n",
        "# Perform matmul on tensor_A and tensor_B\n",
        "# tensor_C = torch.matmul(tensor_A, tensor_B) # won't work because of shape error\n",
        "tensor_C = torch.matmul(tensor_A, tensor_B.T)\n",
        "tensor_C, tensor_C.shape"
      ],
      "metadata": {
        "colab": {
          "base_uri": "https://localhost:8080/"
        },
        "id": "O5MnHCBftoFp",
        "outputId": "43669d30-46f6-4d0b-a41c-9edb10809e50"
      },
      "execution_count": 8,
      "outputs": [
        {
          "output_type": "execute_result",
          "data": {
            "text/plain": [
              "(tensor([[0.3647, 0.4709],\n",
              "         [0.5184, 0.5617]], device='cuda:0'),\n",
              " torch.Size([2, 2]))"
            ]
          },
          "metadata": {},
          "execution_count": 8
        }
      ]
    },
    {
      "cell_type": "markdown",
      "source": [
        "## 8. Find the maximum and minimum values of the output of 7.\n"
      ],
      "metadata": {
        "id": "1zw5iyKJt04Y"
      }
    },
    {
      "cell_type": "code",
      "source": [
        "\n",
        "# Find max\n",
        "max = torch.max(tensor_C)\n",
        "\n",
        "# Find min\n",
        "min = torch.min(tensor_C)\n",
        "max, min"
      ],
      "metadata": {
        "colab": {
          "base_uri": "https://localhost:8080/"
        },
        "id": "dUb3tylSt4WB",
        "outputId": "bb8eab8e-cb14-4063-b199-c40c60bf457e"
      },
      "execution_count": 9,
      "outputs": [
        {
          "output_type": "execute_result",
          "data": {
            "text/plain": [
              "(tensor(0.5617, device='cuda:0'), tensor(0.3647, device='cuda:0'))"
            ]
          },
          "metadata": {},
          "execution_count": 9
        }
      ]
    },
    {
      "cell_type": "markdown",
      "source": [
        "## 9. Find the maximum and minimum index values of the output of 7."
      ],
      "metadata": {
        "id": "52oik_Qft7v0"
      }
    },
    {
      "cell_type": "code",
      "source": [
        "# Find arg max\n",
        "arg_max = torch.argmax(tensor_C)\n",
        "\n",
        "# Find arg min\n",
        "arg_min = torch.argmin(tensor_C)\n",
        "arg_max, arg_min"
      ],
      "metadata": {
        "colab": {
          "base_uri": "https://localhost:8080/"
        },
        "id": "MfDH2ttIt9Lx",
        "outputId": "4d7515af-d37c-4c5b-e0ba-46ab0ce4ffd1"
      },
      "execution_count": 10,
      "outputs": [
        {
          "output_type": "execute_result",
          "data": {
            "text/plain": [
              "(tensor(3, device='cuda:0'), tensor(0, device='cuda:0'))"
            ]
          },
          "metadata": {},
          "execution_count": 10
        }
      ]
    },
    {
      "cell_type": "markdown",
      "source": [
        "## 10. Make a random tensor with shape (1, 1, 1, 10) and then create a new tensor with all the 1 dimensions removed to be left with a tensor of shape (10). Set the seed to 7 when you create it and print out the first tensor and it's shape as well as the second tensor and it's shape.\n",
        "The output should look like:"
      ],
      "metadata": {
        "id": "MRamNt38uGeJ"
      }
    },
    {
      "cell_type": "code",
      "source": [
        "# Set seed\n",
        "torch.manual_seed(7)\n",
        "\n",
        "# Create random tensor\n",
        "tensor_D = torch.rand(size=(1, 1, 1, 10))\n",
        "\n",
        "# Remove single dimensions\n",
        "tensor_E = tensor_D.squeeze()\n",
        "\n",
        "# Print out tensors\n",
        "print(tensor_D, tensor_D.shape)\n",
        "print(tensor_E, tensor_E.shape)"
      ],
      "metadata": {
        "colab": {
          "base_uri": "https://localhost:8080/"
        },
        "id": "yr3GDElkuE0k",
        "outputId": "949e4bb7-3202-449e-c014-dd20deedf1bd"
      },
      "execution_count": 11,
      "outputs": [
        {
          "output_type": "stream",
          "name": "stdout",
          "text": [
            "tensor([[[[0.5349, 0.1988, 0.6592, 0.6569, 0.2328, 0.4251, 0.2071, 0.6297,\n",
            "           0.3653, 0.8513]]]]) torch.Size([1, 1, 1, 10])\n",
            "tensor([0.5349, 0.1988, 0.6592, 0.6569, 0.2328, 0.4251, 0.2071, 0.6297, 0.3653,\n",
            "        0.8513]) torch.Size([10])\n"
          ]
        }
      ]
    }
  ]
}